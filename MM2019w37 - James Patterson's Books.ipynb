{
 "cells": [
  {
   "cell_type": "markdown",
   "metadata": {},
   "source": [
    "## #MakeoverMonday 2019 week 37"
   ]
  },
  {
   "cell_type": "markdown",
   "metadata": {},
   "source": [
    "Importing libraries, data"
   ]
  },
  {
   "cell_type": "code",
   "execution_count": 47,
   "metadata": {},
   "outputs": [],
   "source": [
    "import pandas as pd\n",
    "import seaborn as sns\n",
    "import matplotlib.pyplot as plt"
   ]
  },
  {
   "cell_type": "code",
   "execution_count": 68,
   "metadata": {},
   "outputs": [],
   "source": [
    "df_books = pd.read_csv('MM2019w37.csv')"
   ]
  },
  {
   "cell_type": "markdown",
   "metadata": {},
   "source": [
    "Overviewing the data"
   ]
  },
  {
   "cell_type": "code",
   "execution_count": 69,
   "metadata": {},
   "outputs": [
    {
     "data": {
      "text/html": [
       "<div>\n",
       "<style scoped>\n",
       "    .dataframe tbody tr th:only-of-type {\n",
       "        vertical-align: middle;\n",
       "    }\n",
       "\n",
       "    .dataframe tbody tr th {\n",
       "        vertical-align: top;\n",
       "    }\n",
       "\n",
       "    .dataframe thead th {\n",
       "        text-align: right;\n",
       "    }\n",
       "</style>\n",
       "<table border=\"1\" class=\"dataframe\">\n",
       "  <thead>\n",
       "    <tr style=\"text-align: right;\">\n",
       "      <th></th>\n",
       "      <th>Material Type</th>\n",
       "      <th>Title</th>\n",
       "      <th>Series</th>\n",
       "      <th>Checkout Year</th>\n",
       "      <th>Checkout Month</th>\n",
       "      <th>Checkouts</th>\n",
       "      <th>Subjects</th>\n",
       "      <th>Publisher</th>\n",
       "      <th>Publication Year</th>\n",
       "    </tr>\n",
       "  </thead>\n",
       "  <tbody>\n",
       "    <tr>\n",
       "      <th>0</th>\n",
       "      <td>BOOK</td>\n",
       "      <td>#1 Suspect</td>\n",
       "      <td>NaN</td>\n",
       "      <td>2019</td>\n",
       "      <td>8</td>\n",
       "      <td>1</td>\n",
       "      <td>Private investigators California Fiction, Priv...</td>\n",
       "      <td>Little, Brown and Co.,</td>\n",
       "      <td>2012</td>\n",
       "    </tr>\n",
       "    <tr>\n",
       "      <th>1</th>\n",
       "      <td>BOOK</td>\n",
       "      <td>#1 Suspect</td>\n",
       "      <td>NaN</td>\n",
       "      <td>2019</td>\n",
       "      <td>6</td>\n",
       "      <td>1</td>\n",
       "      <td>Private investigators California Fiction, Priv...</td>\n",
       "      <td>Little, Brown and Co.,</td>\n",
       "      <td>2012</td>\n",
       "    </tr>\n",
       "    <tr>\n",
       "      <th>2</th>\n",
       "      <td>BOOK</td>\n",
       "      <td>#1 Suspect</td>\n",
       "      <td>NaN</td>\n",
       "      <td>2019</td>\n",
       "      <td>6</td>\n",
       "      <td>2</td>\n",
       "      <td>Private investigators California Fiction, Priv...</td>\n",
       "      <td>Little, Brown and Co.,</td>\n",
       "      <td>2012</td>\n",
       "    </tr>\n",
       "    <tr>\n",
       "      <th>3</th>\n",
       "      <td>BOOK</td>\n",
       "      <td>#1 Suspect</td>\n",
       "      <td>NaN</td>\n",
       "      <td>2019</td>\n",
       "      <td>5</td>\n",
       "      <td>1</td>\n",
       "      <td>Private investigators California Fiction, Priv...</td>\n",
       "      <td>Little, Brown and Co.,</td>\n",
       "      <td>2012</td>\n",
       "    </tr>\n",
       "    <tr>\n",
       "      <th>4</th>\n",
       "      <td>BOOK</td>\n",
       "      <td>#1 Suspect</td>\n",
       "      <td>NaN</td>\n",
       "      <td>2019</td>\n",
       "      <td>5</td>\n",
       "      <td>2</td>\n",
       "      <td>Private investigators California Fiction, Priv...</td>\n",
       "      <td>Little, Brown and Co.,</td>\n",
       "      <td>2012</td>\n",
       "    </tr>\n",
       "  </tbody>\n",
       "</table>\n",
       "</div>"
      ],
      "text/plain": [
       "  Material Type       Title Series  Checkout Year  Checkout Month  Checkouts  \\\n",
       "0          BOOK  #1 Suspect    NaN           2019               8          1   \n",
       "1          BOOK  #1 Suspect    NaN           2019               6          1   \n",
       "2          BOOK  #1 Suspect    NaN           2019               6          2   \n",
       "3          BOOK  #1 Suspect    NaN           2019               5          1   \n",
       "4          BOOK  #1 Suspect    NaN           2019               5          2   \n",
       "\n",
       "                                            Subjects               Publisher  \\\n",
       "0  Private investigators California Fiction, Priv...  Little, Brown and Co.,   \n",
       "1  Private investigators California Fiction, Priv...  Little, Brown and Co.,   \n",
       "2  Private investigators California Fiction, Priv...  Little, Brown and Co.,   \n",
       "3  Private investigators California Fiction, Priv...  Little, Brown and Co.,   \n",
       "4  Private investigators California Fiction, Priv...  Little, Brown and Co.,   \n",
       "\n",
       "  Publication Year  \n",
       "0             2012  \n",
       "1             2012  \n",
       "2             2012  \n",
       "3             2012  \n",
       "4             2012  "
      ]
     },
     "execution_count": 69,
     "metadata": {},
     "output_type": "execute_result"
    }
   ],
   "source": [
    "df_books.head()"
   ]
  },
  {
   "cell_type": "code",
   "execution_count": 70,
   "metadata": {},
   "outputs": [],
   "source": [
    "df_books.columns = ['material_type', 'title', 'series', 'checkout_year', 'checkout_month', 'checkouts', 'subjects', 'publisher', 'publication_year']"
   ]
  },
  {
   "cell_type": "code",
   "execution_count": 71,
   "metadata": {},
   "outputs": [
    {
     "name": "stdout",
     "output_type": "stream",
     "text": [
      "<class 'pandas.core.frame.DataFrame'>\n",
      "RangeIndex: 17918 entries, 0 to 17917\n",
      "Data columns (total 9 columns):\n",
      "material_type       17918 non-null object\n",
      "title               17918 non-null object\n",
      "series              12539 non-null object\n",
      "checkout_year       17918 non-null int64\n",
      "checkout_month      17918 non-null int64\n",
      "checkouts           17918 non-null int64\n",
      "subjects            17918 non-null object\n",
      "publisher           17918 non-null object\n",
      "publication_year    17918 non-null object\n",
      "dtypes: int64(3), object(6)\n",
      "memory usage: 1.2+ MB\n"
     ]
    }
   ],
   "source": [
    "df_books.info()"
   ]
  },
  {
   "cell_type": "markdown",
   "metadata": {},
   "source": [
    "Cleaning the publication_year column"
   ]
  },
  {
   "cell_type": "code",
   "execution_count": 72,
   "metadata": {},
   "outputs": [],
   "source": [
    "df_books.publication_year = df_books.publication_year.str.replace('©', '').str.replace('[', '').str.replace(']', '').str.replace('.', '').str.replace('c', '').str.replace('C', '')"
   ]
  },
  {
   "cell_type": "code",
   "execution_count": 73,
   "metadata": {},
   "outputs": [
    {
     "data": {
      "text/plain": [
       "2012          1897\n",
       "2011          1703\n",
       "2009          1573\n",
       "2010          1507\n",
       "2014          1425\n",
       "2013          1263\n",
       "2016          1133\n",
       "2015          1102\n",
       "2008          1019\n",
       "2007           972\n",
       "2017           956\n",
       "2001           468\n",
       "2018           418\n",
       "2006           398\n",
       "2005           390\n",
       "2004           234\n",
       "2003           226\n",
       "1999           191\n",
       "2002           177\n",
       "2000           113\n",
       "1996            87\n",
       "2019            87\n",
       "2000, 1995      82\n",
       "2011, 2010      78\n",
       "2005, 2004      57\n",
       "2009, 2005      50\n",
       "2012, 2011      44\n",
       "2009, 2007      43\n",
       "2007, 2005      41\n",
       "2007, 2006      40\n",
       "2008, 2007      40\n",
       "2010, 2001      21\n",
       "2008, 2006      19\n",
       "2004, 2003      18\n",
       "1998            18\n",
       "2009, 2008      17\n",
       "2011, 2002      11\n",
       "Name: publication_year, dtype: int64"
      ]
     },
     "execution_count": 73,
     "metadata": {},
     "output_type": "execute_result"
    }
   ],
   "source": [
    "df_books.publication_year.value_counts()"
   ]
  },
  {
   "cell_type": "code",
   "execution_count": 74,
   "metadata": {},
   "outputs": [],
   "source": [
    "df_books.publication_year = df_books.publication_year.str.split(pat=',', expand=True) #keep the latest publication_year"
   ]
  },
  {
   "cell_type": "code",
   "execution_count": 75,
   "metadata": {},
   "outputs": [
    {
     "data": {
      "text/plain": [
       "2012    1941\n",
       "2011    1792\n",
       "2009    1683\n",
       "2010    1528\n",
       "2014    1425\n",
       "2013    1263\n",
       "2016    1133\n",
       "2015    1102\n",
       "2008    1078\n",
       "2007    1053\n",
       "2017     956\n",
       "2001     468\n",
       "2005     447\n",
       "2018     418\n",
       "2006     398\n",
       "2004     252\n",
       "2003     226\n",
       "2000     195\n",
       "1999     191\n",
       "2002     177\n",
       "2019      87\n",
       "1996      87\n",
       "1998      18\n",
       "Name: publication_year, dtype: int64"
      ]
     },
     "execution_count": 75,
     "metadata": {},
     "output_type": "execute_result"
    }
   ],
   "source": [
    "df_books.publication_year.value_counts()"
   ]
  },
  {
   "cell_type": "markdown",
   "metadata": {},
   "source": [
    "Visualising checkouts and publications per year"
   ]
  },
  {
   "cell_type": "code",
   "execution_count": 76,
   "metadata": {},
   "outputs": [],
   "source": [
    "df_books.checkout_year = pd.to_numeric(df_books.checkout_year)"
   ]
  },
  {
   "cell_type": "code",
   "execution_count": 77,
   "metadata": {},
   "outputs": [
    {
     "data": {
      "text/plain": [
       "<matplotlib.axes._subplots.AxesSubplot at 0x17317335278>"
      ]
     },
     "execution_count": 77,
     "metadata": {},
     "output_type": "execute_result"
    },
    {
     "data": {
      "image/png": "[encoded data removed]",
      "text/plain": [
       "<Figure size 432x288 with 1 Axes>"
      ]
     },
     "metadata": {
      "needs_background": "light"
     },
     "output_type": "display_data"
    }
   ],
   "source": [
    "df_books.groupby('checkout_year').checkouts.sum().reset_index().plot('checkout_year', 'checkouts', kind='bar')"
   ]
  },
  {
   "cell_type": "code",
   "execution_count": 78,
   "metadata": {},
   "outputs": [
    {
     "data": {
      "text/plain": [
       "<matplotlib.axes._subplots.AxesSubplot at 0x173170a19e8>"
      ]
     },
     "execution_count": 78,
     "metadata": {},
     "output_type": "execute_result"
    },
    {
     "data": {
      "image/png": "[encoded data removed]",
      "text/plain": [
       "<Figure size 432x288 with 1 Axes>"
      ]
     },
     "metadata": {
      "needs_background": "light"
     },
     "output_type": "display_data"
    }
   ],
   "source": [
    "df_books.groupby('publication_year').title.nunique().reset_index().plot('publication_year', 'title')"
   ]
  },
  {
   "cell_type": "markdown",
   "metadata": {},
   "source": [
    "Exporting df"
   ]
  },
  {
   "cell_type": "code",
   "execution_count": 81,
   "metadata": {},
   "outputs": [],
   "source": [
    "df_books.to_excel('MM2019w37_clean.xlsx', index=False)"
   ]
  }
 ],
 "metadata": {
  "kernelspec": {
   "display_name": "Python 3",
   "language": "python",
   "name": "python3"
  },
  "language_info": {
   "codemirror_mode": {
    "name": "ipython",
    "version": 3
   },
   "file_extension": ".py",
   "mimetype": "text/x-python",
   "name": "python",
   "nbconvert_exporter": "python",
   "pygments_lexer": "ipython3",
   "version": "3.7.3"
  }
 },
 "nbformat": 4,
 "nbformat_minor": 2
}
