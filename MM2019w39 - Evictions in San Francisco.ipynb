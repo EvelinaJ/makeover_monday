{
 "cells": [
  {
   "cell_type": "markdown",
   "metadata": {},
   "source": [
    "## #MakeoverMonday 2019w39: Evictions in San Francisco"
   ]
  },
  {
   "cell_type": "markdown",
   "metadata": {},
   "source": [
    "**Importing libraries**"
   ]
  },
  {
   "cell_type": "code",
   "execution_count": 44,
   "metadata": {},
   "outputs": [],
   "source": [
    "import pandas as pd\n",
    "import matplotlib.pyplot as plt\n",
    "import seaborn as sns\n",
    "import numpy as np"
   ]
  },
  {
   "cell_type": "markdown",
   "metadata": {},
   "source": [
    "**Importing and overviewing data**"
   ]
  },
  {
   "cell_type": "code",
   "execution_count": 45,
   "metadata": {},
   "outputs": [],
   "source": [
    "df = pd.read_csv('SF_Eviction_Notices.csv', low_memory=False)"
   ]
  },
  {
   "cell_type": "code",
   "execution_count": 46,
   "metadata": {},
   "outputs": [
    {
     "data": {
      "text/plain": [
       "(41043, 29)"
      ]
     },
     "execution_count": 46,
     "metadata": {},
     "output_type": "execute_result"
    }
   ],
   "source": [
    "df.shape"
   ]
  },
  {
   "cell_type": "code",
   "execution_count": 47,
   "metadata": {},
   "outputs": [
    {
     "name": "stdout",
     "output_type": "stream",
     "text": [
      "<class 'pandas.core.frame.DataFrame'>\n",
      "RangeIndex: 41043 entries, 0 to 41042\n",
      "Data columns (total 29 columns):\n",
      "Eviction ID                            41043 non-null object\n",
      "Address                                41043 non-null object\n",
      "City                                   41041 non-null object\n",
      "State                                  41041 non-null object\n",
      "Eviction Notice Source Zipcode         40369 non-null object\n",
      "File Date                              41043 non-null object\n",
      "Non Payment                            41043 non-null bool\n",
      "Breach                                 41043 non-null bool\n",
      "Nuisance                               41043 non-null bool\n",
      "Illegal Use                            41043 non-null bool\n",
      "Failure to Sign Renewal                41043 non-null bool\n",
      "Access Denial                          41043 non-null bool\n",
      "Unapproved Subtenant                   41043 non-null bool\n",
      "Owner Move In                          41043 non-null bool\n",
      "Demolition                             41043 non-null bool\n",
      "Capital Improvement                    41043 non-null bool\n",
      "Substantial Rehab                      41043 non-null bool\n",
      "Ellis Act WithDrawal                   41043 non-null bool\n",
      "Condo Conversion                       41043 non-null bool\n",
      "Roommate Same Unit                     41043 non-null bool\n",
      "Other Cause                            41043 non-null bool\n",
      "Late Payments                          41043 non-null bool\n",
      "Lead Remediation                       41043 non-null bool\n",
      "Development                            41043 non-null bool\n",
      "Good Samaritan Ends                    41043 non-null bool\n",
      "Constraints Date                       4115 non-null object\n",
      "Supervisor District                    39655 non-null float64\n",
      "Neighborhoods - Analysis Boundaries    39655 non-null object\n",
      "Location                               39667 non-null object\n",
      "dtypes: bool(19), float64(1), object(9)\n",
      "memory usage: 3.9+ MB\n"
     ]
    }
   ],
   "source": [
    "df.info()"
   ]
  },
  {
   "cell_type": "code",
   "execution_count": 48,
   "metadata": {},
   "outputs": [
    {
     "data": {
      "text/html": [
       "<div>\n",
       "<style scoped>\n",
       "    .dataframe tbody tr th:only-of-type {\n",
       "        vertical-align: middle;\n",
       "    }\n",
       "\n",
       "    .dataframe tbody tr th {\n",
       "        vertical-align: top;\n",
       "    }\n",
       "\n",
       "    .dataframe thead th {\n",
       "        text-align: right;\n",
       "    }\n",
       "</style>\n",
       "<table border=\"1\" class=\"dataframe\">\n",
       "  <thead>\n",
       "    <tr style=\"text-align: right;\">\n",
       "      <th></th>\n",
       "      <th>Eviction ID</th>\n",
       "      <th>Address</th>\n",
       "      <th>City</th>\n",
       "      <th>State</th>\n",
       "      <th>Eviction Notice Source Zipcode</th>\n",
       "      <th>File Date</th>\n",
       "      <th>Non Payment</th>\n",
       "      <th>Breach</th>\n",
       "      <th>Nuisance</th>\n",
       "      <th>Illegal Use</th>\n",
       "      <th>...</th>\n",
       "      <th>Roommate Same Unit</th>\n",
       "      <th>Other Cause</th>\n",
       "      <th>Late Payments</th>\n",
       "      <th>Lead Remediation</th>\n",
       "      <th>Development</th>\n",
       "      <th>Good Samaritan Ends</th>\n",
       "      <th>Constraints Date</th>\n",
       "      <th>Supervisor District</th>\n",
       "      <th>Neighborhoods - Analysis Boundaries</th>\n",
       "      <th>Location</th>\n",
       "    </tr>\n",
       "  </thead>\n",
       "  <tbody>\n",
       "    <tr>\n",
       "      <th>0</th>\n",
       "      <td>M191809</td>\n",
       "      <td>700 Block Of Gonzalez  Drive</td>\n",
       "      <td>San Francisco</td>\n",
       "      <td>CA</td>\n",
       "      <td>94132</td>\n",
       "      <td>07/29/2019</td>\n",
       "      <td>False</td>\n",
       "      <td>True</td>\n",
       "      <td>False</td>\n",
       "      <td>False</td>\n",
       "      <td>...</td>\n",
       "      <td>False</td>\n",
       "      <td>False</td>\n",
       "      <td>False</td>\n",
       "      <td>False</td>\n",
       "      <td>False</td>\n",
       "      <td>False</td>\n",
       "      <td>NaN</td>\n",
       "      <td>7.0</td>\n",
       "      <td>Lakeshore</td>\n",
       "      <td>POINT (-122.48059457480959 37.71751346803292)</td>\n",
       "    </tr>\n",
       "    <tr>\n",
       "      <th>1</th>\n",
       "      <td>M191803</td>\n",
       "      <td>700 Block Of Gonzalez  Drive</td>\n",
       "      <td>San Francisco</td>\n",
       "      <td>CA</td>\n",
       "      <td>94132</td>\n",
       "      <td>07/29/2019</td>\n",
       "      <td>False</td>\n",
       "      <td>True</td>\n",
       "      <td>False</td>\n",
       "      <td>False</td>\n",
       "      <td>...</td>\n",
       "      <td>False</td>\n",
       "      <td>False</td>\n",
       "      <td>False</td>\n",
       "      <td>False</td>\n",
       "      <td>False</td>\n",
       "      <td>False</td>\n",
       "      <td>NaN</td>\n",
       "      <td>7.0</td>\n",
       "      <td>Lakeshore</td>\n",
       "      <td>POINT (-122.48066097526849 37.71741710510966)</td>\n",
       "    </tr>\n",
       "    <tr>\n",
       "      <th>2</th>\n",
       "      <td>M191805</td>\n",
       "      <td>800 Block Of Gonzalez  Drive</td>\n",
       "      <td>San Francisco</td>\n",
       "      <td>CA</td>\n",
       "      <td>94132</td>\n",
       "      <td>07/29/2019</td>\n",
       "      <td>False</td>\n",
       "      <td>True</td>\n",
       "      <td>False</td>\n",
       "      <td>False</td>\n",
       "      <td>...</td>\n",
       "      <td>False</td>\n",
       "      <td>False</td>\n",
       "      <td>False</td>\n",
       "      <td>False</td>\n",
       "      <td>False</td>\n",
       "      <td>False</td>\n",
       "      <td>NaN</td>\n",
       "      <td>7.0</td>\n",
       "      <td>Lakeshore</td>\n",
       "      <td>POINT (-122.48059457480959 37.71751346803292)</td>\n",
       "    </tr>\n",
       "    <tr>\n",
       "      <th>3</th>\n",
       "      <td>M191790</td>\n",
       "      <td>300 Block Of Gonzalez  Drive</td>\n",
       "      <td>San Francisco</td>\n",
       "      <td>CA</td>\n",
       "      <td>94132</td>\n",
       "      <td>07/29/2019</td>\n",
       "      <td>False</td>\n",
       "      <td>True</td>\n",
       "      <td>False</td>\n",
       "      <td>False</td>\n",
       "      <td>...</td>\n",
       "      <td>False</td>\n",
       "      <td>False</td>\n",
       "      <td>False</td>\n",
       "      <td>False</td>\n",
       "      <td>False</td>\n",
       "      <td>False</td>\n",
       "      <td>NaN</td>\n",
       "      <td>7.0</td>\n",
       "      <td>Lakeshore</td>\n",
       "      <td>POINT (-122.47657722541055 37.71621109111555)</td>\n",
       "    </tr>\n",
       "    <tr>\n",
       "      <th>4</th>\n",
       "      <td>M191824</td>\n",
       "      <td>600 Block Of Geary  Street</td>\n",
       "      <td>San Francisco</td>\n",
       "      <td>CA</td>\n",
       "      <td>94102</td>\n",
       "      <td>07/29/2019</td>\n",
       "      <td>False</td>\n",
       "      <td>False</td>\n",
       "      <td>True</td>\n",
       "      <td>False</td>\n",
       "      <td>...</td>\n",
       "      <td>False</td>\n",
       "      <td>False</td>\n",
       "      <td>False</td>\n",
       "      <td>False</td>\n",
       "      <td>False</td>\n",
       "      <td>False</td>\n",
       "      <td>NaN</td>\n",
       "      <td>3.0</td>\n",
       "      <td>Tenderloin</td>\n",
       "      <td>POINT (-122.41399503430975 37.78667901466992)</td>\n",
       "    </tr>\n",
       "  </tbody>\n",
       "</table>\n",
       "<p>5 rows × 29 columns</p>\n",
       "</div>"
      ],
      "text/plain": [
       "  Eviction ID                       Address           City State  \\\n",
       "0     M191809  700 Block Of Gonzalez  Drive  San Francisco    CA   \n",
       "1     M191803  700 Block Of Gonzalez  Drive  San Francisco    CA   \n",
       "2     M191805  800 Block Of Gonzalez  Drive  San Francisco    CA   \n",
       "3     M191790  300 Block Of Gonzalez  Drive  San Francisco    CA   \n",
       "4     M191824    600 Block Of Geary  Street  San Francisco    CA   \n",
       "\n",
       "  Eviction Notice Source Zipcode   File Date  Non Payment  Breach  Nuisance  \\\n",
       "0                          94132  07/29/2019        False    True     False   \n",
       "1                          94132  07/29/2019        False    True     False   \n",
       "2                          94132  07/29/2019        False    True     False   \n",
       "3                          94132  07/29/2019        False    True     False   \n",
       "4                          94102  07/29/2019        False   False      True   \n",
       "\n",
       "   Illegal Use  ...  Roommate Same Unit  Other Cause  Late Payments  \\\n",
       "0        False  ...               False        False          False   \n",
       "1        False  ...               False        False          False   \n",
       "2        False  ...               False        False          False   \n",
       "3        False  ...               False        False          False   \n",
       "4        False  ...               False        False          False   \n",
       "\n",
       "   Lead Remediation  Development  Good Samaritan Ends  Constraints Date  \\\n",
       "0             False        False                False               NaN   \n",
       "1             False        False                False               NaN   \n",
       "2             False        False                False               NaN   \n",
       "3             False        False                False               NaN   \n",
       "4             False        False                False               NaN   \n",
       "\n",
       "   Supervisor District  Neighborhoods - Analysis Boundaries  \\\n",
       "0                  7.0                            Lakeshore   \n",
       "1                  7.0                            Lakeshore   \n",
       "2                  7.0                            Lakeshore   \n",
       "3                  7.0                            Lakeshore   \n",
       "4                  3.0                           Tenderloin   \n",
       "\n",
       "                                        Location  \n",
       "0  POINT (-122.48059457480959 37.71751346803292)  \n",
       "1  POINT (-122.48066097526849 37.71741710510966)  \n",
       "2  POINT (-122.48059457480959 37.71751346803292)  \n",
       "3  POINT (-122.47657722541055 37.71621109111555)  \n",
       "4  POINT (-122.41399503430975 37.78667901466992)  \n",
       "\n",
       "[5 rows x 29 columns]"
      ]
     },
     "execution_count": 48,
     "metadata": {},
     "output_type": "execute_result"
    }
   ],
   "source": [
    "df.head()"
   ]
  },
  {
   "cell_type": "markdown",
   "metadata": {},
   "source": [
    "**Cleaning the dates column**"
   ]
  },
  {
   "cell_type": "code",
   "execution_count": 49,
   "metadata": {},
   "outputs": [],
   "source": [
    "df['File Date'] = pd.to_datetime(df['File Date'])"
   ]
  },
  {
   "cell_type": "code",
   "execution_count": 50,
   "metadata": {},
   "outputs": [
    {
     "data": {
      "text/plain": [
       "count                   41043\n",
       "unique                   5582\n",
       "top       2012-08-16 00:00:00\n",
       "freq                      240\n",
       "first     1997-01-02 00:00:00\n",
       "last      2019-07-29 00:00:00\n",
       "Name: File Date, dtype: object"
      ]
     },
     "execution_count": 50,
     "metadata": {},
     "output_type": "execute_result"
    }
   ],
   "source": [
    "df['File Date'].describe() # checking if data is available for full years"
   ]
  },
  {
   "cell_type": "code",
   "execution_count": 51,
   "metadata": {},
   "outputs": [],
   "source": [
    "df = df[ (df['File Date'] > '1997-12-31') & (df['File Date'] < '2019-01-01') ]  # keeping 30 years of data"
   ]
  },
  {
   "cell_type": "markdown",
   "metadata": {},
   "source": [
    "**Excluding unnecessary columns**"
   ]
  },
  {
   "cell_type": "code",
   "execution_count": 52,
   "metadata": {},
   "outputs": [
    {
     "data": {
      "text/plain": [
       "Index(['Eviction ID', 'Address', 'City', 'State',\n",
       "       'Eviction Notice Source Zipcode', 'File Date', 'Non Payment', 'Breach',\n",
       "       'Nuisance', 'Illegal Use', 'Failure to Sign Renewal', 'Access Denial',\n",
       "       'Unapproved Subtenant', 'Owner Move In', 'Demolition',\n",
       "       'Capital Improvement', 'Substantial Rehab', 'Ellis Act WithDrawal',\n",
       "       'Condo Conversion', 'Roommate Same Unit', 'Other Cause',\n",
       "       'Late Payments', 'Lead Remediation', 'Development',\n",
       "       'Good Samaritan Ends', 'Constraints Date', 'Supervisor District',\n",
       "       'Neighborhoods - Analysis Boundaries', 'Location'],\n",
       "      dtype='object')"
      ]
     },
     "execution_count": 52,
     "metadata": {},
     "output_type": "execute_result"
    }
   ],
   "source": [
    "df.columns"
   ]
  },
  {
   "cell_type": "code",
   "execution_count": 53,
   "metadata": {},
   "outputs": [],
   "source": [
    "dfs = df[['Non Payment', 'Breach', 'Nuisance', 'Illegal Use', 'Failure to Sign Renewal', 'Access Denial', \n",
    "                              'Unapproved Subtenant', 'Owner Move In', 'Demolition', 'Capital Improvement', 'Substantial Rehab',\n",
    "                              'Ellis Act WithDrawal', 'Condo Conversion', 'Roommate Same Unit', 'Late Payments', 'Lead Remediation', \n",
    "                              'Development', 'Good Samaritan Ends', 'Other Cause', 'Neighborhoods - Analysis Boundaries']] # keeping only the neighbourhoods and the reasons"
   ]
  },
  {
   "cell_type": "markdown",
   "metadata": {},
   "source": [
    "**Melting the DataFrame to calculate # evictions**"
   ]
  },
  {
   "cell_type": "code",
   "execution_count": 54,
   "metadata": {},
   "outputs": [],
   "source": [
    "dfm = pd.melt(dfs, id_vars=['Neighborhoods - Analysis Boundaries'], value_vars=['Non Payment', 'Breach',\n",
    "       'Nuisance', 'Illegal Use', 'Failure to Sign Renewal', 'Access Denial',\n",
    "       'Unapproved Subtenant', 'Owner Move In', 'Demolition',\n",
    "       'Capital Improvement', 'Substantial Rehab', 'Ellis Act WithDrawal',\n",
    "       'Condo Conversion', 'Roommate Same Unit', \n",
    "       'Late Payments', 'Lead Remediation', 'Development',\n",
    "       'Good Samaritan Ends', 'Other Cause'], var_name='cause', value_name='evictions')"
   ]
  },
  {
   "cell_type": "code",
   "execution_count": 55,
   "metadata": {},
   "outputs": [
    {
     "data": {
      "text/html": [
       "<div>\n",
       "<style scoped>\n",
       "    .dataframe tbody tr th:only-of-type {\n",
       "        vertical-align: middle;\n",
       "    }\n",
       "\n",
       "    .dataframe tbody tr th {\n",
       "        vertical-align: top;\n",
       "    }\n",
       "\n",
       "    .dataframe thead th {\n",
       "        text-align: right;\n",
       "    }\n",
       "</style>\n",
       "<table border=\"1\" class=\"dataframe\">\n",
       "  <thead>\n",
       "    <tr style=\"text-align: right;\">\n",
       "      <th></th>\n",
       "      <th>Neighborhoods - Analysis Boundaries</th>\n",
       "      <th>cause</th>\n",
       "      <th>evictions</th>\n",
       "    </tr>\n",
       "  </thead>\n",
       "  <tbody>\n",
       "    <tr>\n",
       "      <th>0</th>\n",
       "      <td>Nob Hill</td>\n",
       "      <td>Non Payment</td>\n",
       "      <td>False</td>\n",
       "    </tr>\n",
       "    <tr>\n",
       "      <th>1</th>\n",
       "      <td>Sunset/Parkside</td>\n",
       "      <td>Non Payment</td>\n",
       "      <td>False</td>\n",
       "    </tr>\n",
       "    <tr>\n",
       "      <th>2</th>\n",
       "      <td>Haight Ashbury</td>\n",
       "      <td>Non Payment</td>\n",
       "      <td>False</td>\n",
       "    </tr>\n",
       "    <tr>\n",
       "      <th>3</th>\n",
       "      <td>Outer Mission</td>\n",
       "      <td>Non Payment</td>\n",
       "      <td>False</td>\n",
       "    </tr>\n",
       "    <tr>\n",
       "      <th>4</th>\n",
       "      <td>North Beach</td>\n",
       "      <td>Non Payment</td>\n",
       "      <td>False</td>\n",
       "    </tr>\n",
       "  </tbody>\n",
       "</table>\n",
       "</div>"
      ],
      "text/plain": [
       "  Neighborhoods - Analysis Boundaries        cause  evictions\n",
       "0                            Nob Hill  Non Payment      False\n",
       "1                     Sunset/Parkside  Non Payment      False\n",
       "2                      Haight Ashbury  Non Payment      False\n",
       "3                       Outer Mission  Non Payment      False\n",
       "4                         North Beach  Non Payment      False"
      ]
     },
     "execution_count": 55,
     "metadata": {},
     "output_type": "execute_result"
    }
   ],
   "source": [
    "dfm.head()"
   ]
  },
  {
   "cell_type": "code",
   "execution_count": 56,
   "metadata": {},
   "outputs": [],
   "source": [
    "dfm.columns = ['neighbourhood', 'cause', 'evictions']"
   ]
  },
  {
   "cell_type": "code",
   "execution_count": 69,
   "metadata": {},
   "outputs": [],
   "source": [
    "dfg = dfm.groupby(['neighbourhood', 'cause'], as_index=False).evictions.sum()"
   ]
  },
  {
   "cell_type": "code",
   "execution_count": 70,
   "metadata": {},
   "outputs": [
    {
     "data": {
      "text/html": [
       "<div>\n",
       "<style scoped>\n",
       "    .dataframe tbody tr th:only-of-type {\n",
       "        vertical-align: middle;\n",
       "    }\n",
       "\n",
       "    .dataframe tbody tr th {\n",
       "        vertical-align: top;\n",
       "    }\n",
       "\n",
       "    .dataframe thead th {\n",
       "        text-align: right;\n",
       "    }\n",
       "</style>\n",
       "<table border=\"1\" class=\"dataframe\">\n",
       "  <thead>\n",
       "    <tr style=\"text-align: right;\">\n",
       "      <th></th>\n",
       "      <th>neighbourhood</th>\n",
       "      <th>cause</th>\n",
       "      <th>evictions</th>\n",
       "    </tr>\n",
       "  </thead>\n",
       "  <tbody>\n",
       "    <tr>\n",
       "      <th>0</th>\n",
       "      <td>Bayview Hunters Point</td>\n",
       "      <td>Access Denial</td>\n",
       "      <td>38.0</td>\n",
       "    </tr>\n",
       "    <tr>\n",
       "      <th>1</th>\n",
       "      <td>Bayview Hunters Point</td>\n",
       "      <td>Breach</td>\n",
       "      <td>239.0</td>\n",
       "    </tr>\n",
       "    <tr>\n",
       "      <th>2</th>\n",
       "      <td>Bayview Hunters Point</td>\n",
       "      <td>Capital Improvement</td>\n",
       "      <td>13.0</td>\n",
       "    </tr>\n",
       "    <tr>\n",
       "      <th>3</th>\n",
       "      <td>Bayview Hunters Point</td>\n",
       "      <td>Condo Conversion</td>\n",
       "      <td>0.0</td>\n",
       "    </tr>\n",
       "    <tr>\n",
       "      <th>4</th>\n",
       "      <td>Bayview Hunters Point</td>\n",
       "      <td>Demolition</td>\n",
       "      <td>34.0</td>\n",
       "    </tr>\n",
       "  </tbody>\n",
       "</table>\n",
       "</div>"
      ],
      "text/plain": [
       "           neighbourhood                cause  evictions\n",
       "0  Bayview Hunters Point        Access Denial       38.0\n",
       "1  Bayview Hunters Point               Breach      239.0\n",
       "2  Bayview Hunters Point  Capital Improvement       13.0\n",
       "3  Bayview Hunters Point     Condo Conversion        0.0\n",
       "4  Bayview Hunters Point           Demolition       34.0"
      ]
     },
     "execution_count": 70,
     "metadata": {},
     "output_type": "execute_result"
    }
   ],
   "source": [
    "dfg.head()"
   ]
  },
  {
   "cell_type": "markdown",
   "metadata": {},
   "source": [
    "**Keeping only top reasons and top neighbourhoods**"
   ]
  },
  {
   "cell_type": "markdown",
   "metadata": {},
   "source": [
    "Top reasons"
   ]
  },
  {
   "cell_type": "code",
   "execution_count": 71,
   "metadata": {},
   "outputs": [
    {
     "data": {
      "text/html": [
       "<div>\n",
       "<style scoped>\n",
       "    .dataframe tbody tr th:only-of-type {\n",
       "        vertical-align: middle;\n",
       "    }\n",
       "\n",
       "    .dataframe tbody tr th {\n",
       "        vertical-align: top;\n",
       "    }\n",
       "\n",
       "    .dataframe thead th {\n",
       "        text-align: right;\n",
       "    }\n",
       "</style>\n",
       "<table border=\"1\" class=\"dataframe\">\n",
       "  <thead>\n",
       "    <tr style=\"text-align: right;\">\n",
       "      <th></th>\n",
       "      <th>cause</th>\n",
       "      <th>evictions</th>\n",
       "    </tr>\n",
       "  </thead>\n",
       "  <tbody>\n",
       "    <tr>\n",
       "      <th>0</th>\n",
       "      <td>Owner Move In</td>\n",
       "      <td>8579.0</td>\n",
       "    </tr>\n",
       "    <tr>\n",
       "      <th>1</th>\n",
       "      <td>Breach</td>\n",
       "      <td>8298.0</td>\n",
       "    </tr>\n",
       "    <tr>\n",
       "      <th>2</th>\n",
       "      <td>Nuisance</td>\n",
       "      <td>6151.0</td>\n",
       "    </tr>\n",
       "    <tr>\n",
       "      <th>3</th>\n",
       "      <td>Ellis Act WithDrawal</td>\n",
       "      <td>3774.0</td>\n",
       "    </tr>\n",
       "    <tr>\n",
       "      <th>4</th>\n",
       "      <td>Non Payment</td>\n",
       "      <td>2171.0</td>\n",
       "    </tr>\n",
       "    <tr>\n",
       "      <th>5</th>\n",
       "      <td>Late Payments</td>\n",
       "      <td>1482.0</td>\n",
       "    </tr>\n",
       "    <tr>\n",
       "      <th>6</th>\n",
       "      <td>Capital Improvement</td>\n",
       "      <td>1468.0</td>\n",
       "    </tr>\n",
       "    <tr>\n",
       "      <th>7</th>\n",
       "      <td>Roommate Same Unit</td>\n",
       "      <td>1201.0</td>\n",
       "    </tr>\n",
       "    <tr>\n",
       "      <th>8</th>\n",
       "      <td>Other Cause</td>\n",
       "      <td>1112.0</td>\n",
       "    </tr>\n",
       "    <tr>\n",
       "      <th>9</th>\n",
       "      <td>Demolition</td>\n",
       "      <td>1075.0</td>\n",
       "    </tr>\n",
       "    <tr>\n",
       "      <th>10</th>\n",
       "      <td>Illegal Use</td>\n",
       "      <td>830.0</td>\n",
       "    </tr>\n",
       "    <tr>\n",
       "      <th>11</th>\n",
       "      <td>Unapproved Subtenant</td>\n",
       "      <td>632.0</td>\n",
       "    </tr>\n",
       "    <tr>\n",
       "      <th>12</th>\n",
       "      <td>Development</td>\n",
       "      <td>363.0</td>\n",
       "    </tr>\n",
       "    <tr>\n",
       "      <th>13</th>\n",
       "      <td>Access Denial</td>\n",
       "      <td>287.0</td>\n",
       "    </tr>\n",
       "    <tr>\n",
       "      <th>14</th>\n",
       "      <td>Condo Conversion</td>\n",
       "      <td>113.0</td>\n",
       "    </tr>\n",
       "    <tr>\n",
       "      <th>15</th>\n",
       "      <td>Failure to Sign Renewal</td>\n",
       "      <td>87.0</td>\n",
       "    </tr>\n",
       "    <tr>\n",
       "      <th>16</th>\n",
       "      <td>Substantial Rehab</td>\n",
       "      <td>42.0</td>\n",
       "    </tr>\n",
       "    <tr>\n",
       "      <th>17</th>\n",
       "      <td>Lead Remediation</td>\n",
       "      <td>8.0</td>\n",
       "    </tr>\n",
       "    <tr>\n",
       "      <th>18</th>\n",
       "      <td>Good Samaritan Ends</td>\n",
       "      <td>8.0</td>\n",
       "    </tr>\n",
       "  </tbody>\n",
       "</table>\n",
       "</div>"
      ],
      "text/plain": [
       "                      cause  evictions\n",
       "0             Owner Move In     8579.0\n",
       "1                    Breach     8298.0\n",
       "2                  Nuisance     6151.0\n",
       "3      Ellis Act WithDrawal     3774.0\n",
       "4               Non Payment     2171.0\n",
       "5             Late Payments     1482.0\n",
       "6       Capital Improvement     1468.0\n",
       "7        Roommate Same Unit     1201.0\n",
       "8               Other Cause     1112.0\n",
       "9                Demolition     1075.0\n",
       "10              Illegal Use      830.0\n",
       "11     Unapproved Subtenant      632.0\n",
       "12              Development      363.0\n",
       "13            Access Denial      287.0\n",
       "14         Condo Conversion      113.0\n",
       "15  Failure to Sign Renewal       87.0\n",
       "16        Substantial Rehab       42.0\n",
       "17         Lead Remediation        8.0\n",
       "18      Good Samaritan Ends        8.0"
      ]
     },
     "execution_count": 71,
     "metadata": {},
     "output_type": "execute_result"
    }
   ],
   "source": [
    "dft = dfg.groupby('cause', as_index=False).evictions.sum().sort_values(by='evictions', ascending=False).reset_index(drop=True)\n",
    "dft"
   ]
  },
  {
   "cell_type": "code",
   "execution_count": 72,
   "metadata": {},
   "outputs": [],
   "source": [
    "top_15_reasons = list(dft.cause.head(15))"
   ]
  },
  {
   "cell_type": "code",
   "execution_count": 73,
   "metadata": {},
   "outputs": [],
   "source": [
    "df_top = dfg[dfg['cause'].isin(top_15_reasons)]"
   ]
  },
  {
   "cell_type": "markdown",
   "metadata": {},
   "source": [
    "Top neighbourhoods"
   ]
  },
  {
   "cell_type": "code",
   "execution_count": 74,
   "metadata": {},
   "outputs": [
    {
     "name": "stdout",
     "output_type": "stream",
     "text": [
      "Top 20 neighbourhoods represent 81.0% of total evictions.\n"
     ]
    }
   ],
   "source": [
    "dft = dfg.groupby('neighbourhood', as_index=False).evictions.sum().sort_values(by='evictions', ascending=False).reset_index(drop=True)\n",
    "print(f'Top 20 neighbourhoods represent {(round(sum(dft.head(20).evictions) / sum(dft.evictions), 2))*100}% of total evictions.')"
   ]
  },
  {
   "cell_type": "markdown",
   "metadata": {},
   "source": [
    "Let's only keep the top 20."
   ]
  },
  {
   "cell_type": "code",
   "execution_count": 75,
   "metadata": {},
   "outputs": [],
   "source": [
    "top_20_neighbourhoods = list(dft.neighbourhood.head(20))"
   ]
  },
  {
   "cell_type": "code",
   "execution_count": 156,
   "metadata": {},
   "outputs": [
    {
     "data": {
      "text/html": [
       "<div>\n",
       "<style scoped>\n",
       "    .dataframe tbody tr th:only-of-type {\n",
       "        vertical-align: middle;\n",
       "    }\n",
       "\n",
       "    .dataframe tbody tr th {\n",
       "        vertical-align: top;\n",
       "    }\n",
       "\n",
       "    .dataframe thead th {\n",
       "        text-align: right;\n",
       "    }\n",
       "</style>\n",
       "<table border=\"1\" class=\"dataframe\">\n",
       "  <thead>\n",
       "    <tr style=\"text-align: right;\">\n",
       "      <th></th>\n",
       "      <th>neighbourhood</th>\n",
       "      <th>cause</th>\n",
       "      <th>evictions</th>\n",
       "    </tr>\n",
       "  </thead>\n",
       "  <tbody>\n",
       "    <tr>\n",
       "      <th>678</th>\n",
       "      <td>Tenderloin</td>\n",
       "      <td>Nuisance</td>\n",
       "      <td>1134.0</td>\n",
       "    </tr>\n",
       "    <tr>\n",
       "      <th>248</th>\n",
       "      <td>Lakeshore</td>\n",
       "      <td>Breach</td>\n",
       "      <td>1097.0</td>\n",
       "    </tr>\n",
       "    <tr>\n",
       "      <th>661</th>\n",
       "      <td>Sunset/Parkside</td>\n",
       "      <td>Owner Move In</td>\n",
       "      <td>1000.0</td>\n",
       "    </tr>\n",
       "    <tr>\n",
       "      <th>357</th>\n",
       "      <td>Mission</td>\n",
       "      <td>Owner Move In</td>\n",
       "      <td>902.0</td>\n",
       "    </tr>\n",
       "    <tr>\n",
       "      <th>343</th>\n",
       "      <td>Mission</td>\n",
       "      <td>Breach</td>\n",
       "      <td>826.0</td>\n",
       "    </tr>\n",
       "  </tbody>\n",
       "</table>\n",
       "</div>"
      ],
      "text/plain": [
       "       neighbourhood          cause  evictions\n",
       "678       Tenderloin       Nuisance     1134.0\n",
       "248        Lakeshore         Breach     1097.0\n",
       "661  Sunset/Parkside  Owner Move In     1000.0\n",
       "357          Mission  Owner Move In      902.0\n",
       "343          Mission         Breach      826.0"
      ]
     },
     "execution_count": 156,
     "metadata": {},
     "output_type": "execute_result"
    }
   ],
   "source": [
    "df_top = df_top[df_top['neighbourhood'].isin(top_20_neighbourhoods)]\n",
    "df_top.head()"
   ]
  },
  {
   "cell_type": "markdown",
   "metadata": {},
   "source": [
    "**Pivoting and sorting data for heatmap**"
   ]
  },
  {
   "cell_type": "code",
   "execution_count": 181,
   "metadata": {},
   "outputs": [],
   "source": [
    "df_heatmap = pd.pivot_table(df_top, values='evictions', index='neighbourhood', columns='cause')"
   ]
  },
  {
   "cell_type": "code",
   "execution_count": 182,
   "metadata": {},
   "outputs": [],
   "source": [
    "df_heatmap['total'] = df_heatmap['Access Denial'] + df_heatmap['Breach'] + df_heatmap['Capital Improvement'] + df_heatmap['Condo Conversion'] \\\n",
    "       + df_heatmap['Demolition'] + df_heatmap['Development'] + df_heatmap['Ellis Act WithDrawal'] + df_heatmap['Illegal Use'] + \\\n",
    "       df_heatmap['Late Payments'] + df_heatmap['Non Payment'] + df_heatmap['Nuisance'] + df_heatmap['Other Cause'] + df_heatmap['Owner Move In']\\\n",
    "       + df_heatmap['Roommate Same Unit'] + df_heatmap['Unapproved Subtenant']"
   ]
  },
  {
   "cell_type": "code",
   "execution_count": 185,
   "metadata": {},
   "outputs": [],
   "source": [
    "df_heatmap.sort_values(by='total', ascending=False, inplace=True)\n",
    "df_heatmap.drop(['total'], axis=1, inplace=True)"
   ]
  },
  {
   "cell_type": "markdown",
   "metadata": {},
   "source": [
    "**Creating, exporting heatmap**"
   ]
  },
  {
   "cell_type": "code",
   "execution_count": 192,
   "metadata": {},
   "outputs": [
    {
     "data": {
      "image/png": "[encoded data removed]",
      "text/plain": [
       "<Figure size 864x576 with 2 Axes>"
      ]
     },
     "metadata": {},
     "output_type": "display_data"
    }
   ],
   "source": [
    "plt.style.use('ggplot')\n",
    "fig = plt.figure(figsize=(12, 8))\n",
    "\n",
    "hm = sns.heatmap(df_heatmap, cmap='gist_gray_r', linewidths=.5, linecolor='white', square=True, cbar_kws={'shrink': 0.5}) \n",
    "\n",
    "hm.tick_params(direction='out', length=0, width=2, colors='gray', grid_color='gray')\n",
    "\n",
    "plt.text(-6.4, -2, \"20 YEARS OF EVICTIONS IN SAN FRANCISCO\", fontdict={'weight' : 'semibold', 'size' : 22} )\n",
    "plt.text(-6.4, -1, \"San Francisco neighbourhoods with the most evictions between 1998 and 2018 by reason.\", fontdict={'size' : 12} )\n",
    "plt.text(-0.2, 28, \"Data Source: DataSF - #MakeoverMonday Design by Evelina Judeikyte\", fontdict={'size' : 10, 'color': 'gray'} )\n",
    "\n",
    "plt.xticks(rotation=85)\n",
    "plt.xlabel('Why?', fontdict={'weight' : 'semibold', 'size' : 12})\n",
    "plt.ylabel('Where?', fontdict={'weight' : 'semibold', 'size' : 12})\n",
    "\n",
    "plt.savefig('MM2019w39.png', orientation='landscape', optimize=True, bbox_inches='tight')\n",
    "plt.show()"
   ]
  }
 ],
 "metadata": {
  "kernelspec": {
   "display_name": "Python 3",
   "language": "python",
   "name": "python3"
  },
  "language_info": {
   "codemirror_mode": {
    "name": "ipython",
    "version": 3
   },
   "file_extension": ".py",
   "mimetype": "text/x-python",
   "name": "python",
   "nbconvert_exporter": "python",
   "pygments_lexer": "ipython3",
   "version": "3.7.3"
  }
 },
 "nbformat": 4,
 "nbformat_minor": 2
}
