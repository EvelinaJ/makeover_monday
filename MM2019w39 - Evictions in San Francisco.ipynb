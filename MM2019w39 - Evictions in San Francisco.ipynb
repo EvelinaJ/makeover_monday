{
 "cells": [
  {
   "cell_type": "markdown",
   "metadata": {},
   "source": [
    "## #MakeoverMonday 2019w39: Evictions in San Francisco"
   ]
  },
  {
   "cell_type": "markdown",
   "metadata": {},
   "source": [
    "**Importing libraries**"
   ]
  },
  {
   "cell_type": "code",
   "execution_count": 1,
   "metadata": {},
   "outputs": [],
   "source": [
    "import pandas as pd\n",
    "import matplotlib.pyplot as plt\n",
    "import seaborn as sns\n",
    "import numpy as np"
   ]
  },
  {
   "cell_type": "markdown",
   "metadata": {},
   "source": [
    "**Importing and overviewing data**"
   ]
  },
  {
   "cell_type": "code",
   "execution_count": 2,
   "metadata": {},
   "outputs": [],
   "source": [
    "df = pd.read_csv('SF_Eviction_Notices.csv', low_memory=False)"
   ]
  },
  {
   "cell_type": "code",
   "execution_count": 3,
   "metadata": {},
   "outputs": [
    {
     "data": {
      "text/plain": [
       "(41043, 29)"
      ]
     },
     "execution_count": 3,
     "metadata": {},
     "output_type": "execute_result"
    }
   ],
   "source": [
    "df.shape"
   ]
  },
  {
   "cell_type": "code",
   "execution_count": 4,
   "metadata": {},
   "outputs": [
    {
     "name": "stdout",
     "output_type": "stream",
     "text": [
      "<class 'pandas.core.frame.DataFrame'>\n",
      "RangeIndex: 41043 entries, 0 to 41042\n",
      "Data columns (total 29 columns):\n",
      "Eviction ID                            41043 non-null object\n",
      "Address                                41043 non-null object\n",
      "City                                   41041 non-null object\n",
      "State                                  41041 non-null object\n",
      "Eviction Notice Source Zipcode         40369 non-null object\n",
      "File Date                              41043 non-null object\n",
      "Non Payment                            41043 non-null bool\n",
      "Breach                                 41043 non-null bool\n",
      "Nuisance                               41043 non-null bool\n",
      "Illegal Use                            41043 non-null bool\n",
      "Failure to Sign Renewal                41043 non-null bool\n",
      "Access Denial                          41043 non-null bool\n",
      "Unapproved Subtenant                   41043 non-null bool\n",
      "Owner Move In                          41043 non-null bool\n",
      "Demolition                             41043 non-null bool\n",
      "Capital Improvement                    41043 non-null bool\n",
      "Substantial Rehab                      41043 non-null bool\n",
      "Ellis Act WithDrawal                   41043 non-null bool\n",
      "Condo Conversion                       41043 non-null bool\n",
      "Roommate Same Unit                     41043 non-null bool\n",
      "Other Cause                            41043 non-null bool\n",
      "Late Payments                          41043 non-null bool\n",
      "Lead Remediation                       41043 non-null bool\n",
      "Development                            41043 non-null bool\n",
      "Good Samaritan Ends                    41043 non-null bool\n",
      "Constraints Date                       4115 non-null object\n",
      "Supervisor District                    39655 non-null float64\n",
      "Neighborhoods - Analysis Boundaries    39655 non-null object\n",
      "Location                               39667 non-null object\n",
      "dtypes: bool(19), float64(1), object(9)\n",
      "memory usage: 3.9+ MB\n"
     ]
    }
   ],
   "source": [
    "df.info()"
   ]
  },
  {
   "cell_type": "code",
   "execution_count": 5,
   "metadata": {},
   "outputs": [
    {
     "data": {
      "text/html": [
       "<div>\n",
       "<style scoped>\n",
       "    .dataframe tbody tr th:only-of-type {\n",
       "        vertical-align: middle;\n",
       "    }\n",
       "\n",
       "    .dataframe tbody tr th {\n",
       "        vertical-align: top;\n",
       "    }\n",
       "\n",
       "    .dataframe thead th {\n",
       "        text-align: right;\n",
       "    }\n",
       "</style>\n",
       "<table border=\"1\" class=\"dataframe\">\n",
       "  <thead>\n",
       "    <tr style=\"text-align: right;\">\n",
       "      <th></th>\n",
       "      <th>Eviction ID</th>\n",
       "      <th>Address</th>\n",
       "      <th>City</th>\n",
       "      <th>State</th>\n",
       "      <th>Eviction Notice Source Zipcode</th>\n",
       "      <th>File Date</th>\n",
       "      <th>Non Payment</th>\n",
       "      <th>Breach</th>\n",
       "      <th>Nuisance</th>\n",
       "      <th>Illegal Use</th>\n",
       "      <th>...</th>\n",
       "      <th>Roommate Same Unit</th>\n",
       "      <th>Other Cause</th>\n",
       "      <th>Late Payments</th>\n",
       "      <th>Lead Remediation</th>\n",
       "      <th>Development</th>\n",
       "      <th>Good Samaritan Ends</th>\n",
       "      <th>Constraints Date</th>\n",
       "      <th>Supervisor District</th>\n",
       "      <th>Neighborhoods - Analysis Boundaries</th>\n",
       "      <th>Location</th>\n",
       "    </tr>\n",
       "  </thead>\n",
       "  <tbody>\n",
       "    <tr>\n",
       "      <th>0</th>\n",
       "      <td>M191809</td>\n",
       "      <td>700 Block Of Gonzalez  Drive</td>\n",
       "      <td>San Francisco</td>\n",
       "      <td>CA</td>\n",
       "      <td>94132</td>\n",
       "      <td>07/29/2019</td>\n",
       "      <td>False</td>\n",
       "      <td>True</td>\n",
       "      <td>False</td>\n",
       "      <td>False</td>\n",
       "      <td>...</td>\n",
       "      <td>False</td>\n",
       "      <td>False</td>\n",
       "      <td>False</td>\n",
       "      <td>False</td>\n",
       "      <td>False</td>\n",
       "      <td>False</td>\n",
       "      <td>NaN</td>\n",
       "      <td>7.0</td>\n",
       "      <td>Lakeshore</td>\n",
       "      <td>POINT (-122.48059457480959 37.71751346803292)</td>\n",
       "    </tr>\n",
       "    <tr>\n",
       "      <th>1</th>\n",
       "      <td>M191803</td>\n",
       "      <td>700 Block Of Gonzalez  Drive</td>\n",
       "      <td>San Francisco</td>\n",
       "      <td>CA</td>\n",
       "      <td>94132</td>\n",
       "      <td>07/29/2019</td>\n",
       "      <td>False</td>\n",
       "      <td>True</td>\n",
       "      <td>False</td>\n",
       "      <td>False</td>\n",
       "      <td>...</td>\n",
       "      <td>False</td>\n",
       "      <td>False</td>\n",
       "      <td>False</td>\n",
       "      <td>False</td>\n",
       "      <td>False</td>\n",
       "      <td>False</td>\n",
       "      <td>NaN</td>\n",
       "      <td>7.0</td>\n",
       "      <td>Lakeshore</td>\n",
       "      <td>POINT (-122.48066097526849 37.71741710510966)</td>\n",
       "    </tr>\n",
       "    <tr>\n",
       "      <th>2</th>\n",
       "      <td>M191805</td>\n",
       "      <td>800 Block Of Gonzalez  Drive</td>\n",
       "      <td>San Francisco</td>\n",
       "      <td>CA</td>\n",
       "      <td>94132</td>\n",
       "      <td>07/29/2019</td>\n",
       "      <td>False</td>\n",
       "      <td>True</td>\n",
       "      <td>False</td>\n",
       "      <td>False</td>\n",
       "      <td>...</td>\n",
       "      <td>False</td>\n",
       "      <td>False</td>\n",
       "      <td>False</td>\n",
       "      <td>False</td>\n",
       "      <td>False</td>\n",
       "      <td>False</td>\n",
       "      <td>NaN</td>\n",
       "      <td>7.0</td>\n",
       "      <td>Lakeshore</td>\n",
       "      <td>POINT (-122.48059457480959 37.71751346803292)</td>\n",
       "    </tr>\n",
       "    <tr>\n",
       "      <th>3</th>\n",
       "      <td>M191790</td>\n",
       "      <td>300 Block Of Gonzalez  Drive</td>\n",
       "      <td>San Francisco</td>\n",
       "      <td>CA</td>\n",
       "      <td>94132</td>\n",
       "      <td>07/29/2019</td>\n",
       "      <td>False</td>\n",
       "      <td>True</td>\n",
       "      <td>False</td>\n",
       "      <td>False</td>\n",
       "      <td>...</td>\n",
       "      <td>False</td>\n",
       "      <td>False</td>\n",
       "      <td>False</td>\n",
       "      <td>False</td>\n",
       "      <td>False</td>\n",
       "      <td>False</td>\n",
       "      <td>NaN</td>\n",
       "      <td>7.0</td>\n",
       "      <td>Lakeshore</td>\n",
       "      <td>POINT (-122.47657722541055 37.71621109111555)</td>\n",
       "    </tr>\n",
       "    <tr>\n",
       "      <th>4</th>\n",
       "      <td>M191824</td>\n",
       "      <td>600 Block Of Geary  Street</td>\n",
       "      <td>San Francisco</td>\n",
       "      <td>CA</td>\n",
       "      <td>94102</td>\n",
       "      <td>07/29/2019</td>\n",
       "      <td>False</td>\n",
       "      <td>False</td>\n",
       "      <td>True</td>\n",
       "      <td>False</td>\n",
       "      <td>...</td>\n",
       "      <td>False</td>\n",
       "      <td>False</td>\n",
       "      <td>False</td>\n",
       "      <td>False</td>\n",
       "      <td>False</td>\n",
       "      <td>False</td>\n",
       "      <td>NaN</td>\n",
       "      <td>3.0</td>\n",
       "      <td>Tenderloin</td>\n",
       "      <td>POINT (-122.41399503430975 37.78667901466992)</td>\n",
       "    </tr>\n",
       "  </tbody>\n",
       "</table>\n",
       "<p>5 rows × 29 columns</p>\n",
       "</div>"
      ],
      "text/plain": [
       "  Eviction ID                       Address           City State  \\\n",
       "0     M191809  700 Block Of Gonzalez  Drive  San Francisco    CA   \n",
       "1     M191803  700 Block Of Gonzalez  Drive  San Francisco    CA   \n",
       "2     M191805  800 Block Of Gonzalez  Drive  San Francisco    CA   \n",
       "3     M191790  300 Block Of Gonzalez  Drive  San Francisco    CA   \n",
       "4     M191824    600 Block Of Geary  Street  San Francisco    CA   \n",
       "\n",
       "  Eviction Notice Source Zipcode   File Date  Non Payment  Breach  Nuisance  \\\n",
       "0                          94132  07/29/2019        False    True     False   \n",
       "1                          94132  07/29/2019        False    True     False   \n",
       "2                          94132  07/29/2019        False    True     False   \n",
       "3                          94132  07/29/2019        False    True     False   \n",
       "4                          94102  07/29/2019        False   False      True   \n",
       "\n",
       "   Illegal Use  ...  Roommate Same Unit  Other Cause  Late Payments  \\\n",
       "0        False  ...               False        False          False   \n",
       "1        False  ...               False        False          False   \n",
       "2        False  ...               False        False          False   \n",
       "3        False  ...               False        False          False   \n",
       "4        False  ...               False        False          False   \n",
       "\n",
       "   Lead Remediation  Development  Good Samaritan Ends  Constraints Date  \\\n",
       "0             False        False                False               NaN   \n",
       "1             False        False                False               NaN   \n",
       "2             False        False                False               NaN   \n",
       "3             False        False                False               NaN   \n",
       "4             False        False                False               NaN   \n",
       "\n",
       "   Supervisor District  Neighborhoods - Analysis Boundaries  \\\n",
       "0                  7.0                            Lakeshore   \n",
       "1                  7.0                            Lakeshore   \n",
       "2                  7.0                            Lakeshore   \n",
       "3                  7.0                            Lakeshore   \n",
       "4                  3.0                           Tenderloin   \n",
       "\n",
       "                                        Location  \n",
       "0  POINT (-122.48059457480959 37.71751346803292)  \n",
       "1  POINT (-122.48066097526849 37.71741710510966)  \n",
       "2  POINT (-122.48059457480959 37.71751346803292)  \n",
       "3  POINT (-122.47657722541055 37.71621109111555)  \n",
       "4  POINT (-122.41399503430975 37.78667901466992)  \n",
       "\n",
       "[5 rows x 29 columns]"
      ]
     },
     "execution_count": 5,
     "metadata": {},
     "output_type": "execute_result"
    }
   ],
   "source": [
    "df.head()"
   ]
  },
  {
   "cell_type": "markdown",
   "metadata": {},
   "source": [
    "**Cleaning the dates column**"
   ]
  },
  {
   "cell_type": "code",
   "execution_count": 6,
   "metadata": {},
   "outputs": [],
   "source": [
    "df['File Date'] = pd.to_datetime(df['File Date'])"
   ]
  },
  {
   "cell_type": "code",
   "execution_count": 7,
   "metadata": {},
   "outputs": [
    {
     "data": {
      "text/plain": [
       "count                   41043\n",
       "unique                   5582\n",
       "top       2012-08-16 00:00:00\n",
       "freq                      240\n",
       "first     1997-01-02 00:00:00\n",
       "last      2019-07-29 00:00:00\n",
       "Name: File Date, dtype: object"
      ]
     },
     "execution_count": 7,
     "metadata": {},
     "output_type": "execute_result"
    }
   ],
   "source": [
    "df['File Date'].describe() # checking if data is available for full years"
   ]
  },
  {
   "cell_type": "code",
   "execution_count": 8,
   "metadata": {},
   "outputs": [],
   "source": [
    "df = df[ (df['File Date'] > '1997-12-31') & (df['File Date'] < '2019-01-01') ]  # keeping 30 years of data"
   ]
  },
  {
   "cell_type": "markdown",
   "metadata": {},
   "source": [
    "**Excluding unnecessary columns**"
   ]
  },
  {
   "cell_type": "code",
   "execution_count": 9,
   "metadata": {},
   "outputs": [
    {
     "data": {
      "text/plain": [
       "Index(['Eviction ID', 'Address', 'City', 'State',\n",
       "       'Eviction Notice Source Zipcode', 'File Date', 'Non Payment', 'Breach',\n",
       "       'Nuisance', 'Illegal Use', 'Failure to Sign Renewal', 'Access Denial',\n",
       "       'Unapproved Subtenant', 'Owner Move In', 'Demolition',\n",
       "       'Capital Improvement', 'Substantial Rehab', 'Ellis Act WithDrawal',\n",
       "       'Condo Conversion', 'Roommate Same Unit', 'Other Cause',\n",
       "       'Late Payments', 'Lead Remediation', 'Development',\n",
       "       'Good Samaritan Ends', 'Constraints Date', 'Supervisor District',\n",
       "       'Neighborhoods - Analysis Boundaries', 'Location'],\n",
       "      dtype='object')"
      ]
     },
     "execution_count": 9,
     "metadata": {},
     "output_type": "execute_result"
    }
   ],
   "source": [
    "df.columns"
   ]
  },
  {
   "cell_type": "code",
   "execution_count": 10,
   "metadata": {},
   "outputs": [],
   "source": [
    "dfs = df[['Non Payment', 'Breach', 'Nuisance', 'Illegal Use', 'Failure to Sign Renewal', 'Access Denial', \n",
    "                              'Unapproved Subtenant', 'Owner Move In', 'Demolition', 'Capital Improvement', 'Substantial Rehab',\n",
    "                              'Ellis Act WithDrawal', 'Condo Conversion', 'Roommate Same Unit', 'Late Payments', 'Lead Remediation', \n",
    "                              'Development', 'Good Samaritan Ends', 'Other Cause', 'Neighborhoods - Analysis Boundaries']] # keeping only the neighbourhoods and the reasons"
   ]
  },
  {
   "cell_type": "markdown",
   "metadata": {},
   "source": [
    "**Melting the DataFrame to calculate # evictions**"
   ]
  },
  {
   "cell_type": "code",
   "execution_count": 11,
   "metadata": {},
   "outputs": [],
   "source": [
    "dfm = pd.melt(dfs, id_vars=['Neighborhoods - Analysis Boundaries'], value_vars=['Non Payment', 'Breach',\n",
    "       'Nuisance', 'Illegal Use', 'Failure to Sign Renewal', 'Access Denial',\n",
    "       'Unapproved Subtenant', 'Owner Move In', 'Demolition',\n",
    "       'Capital Improvement', 'Substantial Rehab', 'Ellis Act WithDrawal',\n",
    "       'Condo Conversion', 'Roommate Same Unit', \n",
    "       'Late Payments', 'Lead Remediation', 'Development',\n",
    "       'Good Samaritan Ends', 'Other Cause'], var_name='cause', value_name='evictions')"
   ]
  },
  {
   "cell_type": "code",
   "execution_count": 12,
   "metadata": {},
   "outputs": [
    {
     "data": {
      "text/html": [
       "<div>\n",
       "<style scoped>\n",
       "    .dataframe tbody tr th:only-of-type {\n",
       "        vertical-align: middle;\n",
       "    }\n",
       "\n",
       "    .dataframe tbody tr th {\n",
       "        vertical-align: top;\n",
       "    }\n",
       "\n",
       "    .dataframe thead th {\n",
       "        text-align: right;\n",
       "    }\n",
       "</style>\n",
       "<table border=\"1\" class=\"dataframe\">\n",
       "  <thead>\n",
       "    <tr style=\"text-align: right;\">\n",
       "      <th></th>\n",
       "      <th>Neighborhoods - Analysis Boundaries</th>\n",
       "      <th>cause</th>\n",
       "      <th>evictions</th>\n",
       "    </tr>\n",
       "  </thead>\n",
       "  <tbody>\n",
       "    <tr>\n",
       "      <th>0</th>\n",
       "      <td>Nob Hill</td>\n",
       "      <td>Non Payment</td>\n",
       "      <td>False</td>\n",
       "    </tr>\n",
       "    <tr>\n",
       "      <th>1</th>\n",
       "      <td>Sunset/Parkside</td>\n",
       "      <td>Non Payment</td>\n",
       "      <td>False</td>\n",
       "    </tr>\n",
       "    <tr>\n",
       "      <th>2</th>\n",
       "      <td>Haight Ashbury</td>\n",
       "      <td>Non Payment</td>\n",
       "      <td>False</td>\n",
       "    </tr>\n",
       "    <tr>\n",
       "      <th>3</th>\n",
       "      <td>Outer Mission</td>\n",
       "      <td>Non Payment</td>\n",
       "      <td>False</td>\n",
       "    </tr>\n",
       "    <tr>\n",
       "      <th>4</th>\n",
       "      <td>North Beach</td>\n",
       "      <td>Non Payment</td>\n",
       "      <td>False</td>\n",
       "    </tr>\n",
       "  </tbody>\n",
       "</table>\n",
       "</div>"
      ],
      "text/plain": [
       "  Neighborhoods - Analysis Boundaries        cause  evictions\n",
       "0                            Nob Hill  Non Payment      False\n",
       "1                     Sunset/Parkside  Non Payment      False\n",
       "2                      Haight Ashbury  Non Payment      False\n",
       "3                       Outer Mission  Non Payment      False\n",
       "4                         North Beach  Non Payment      False"
      ]
     },
     "execution_count": 12,
     "metadata": {},
     "output_type": "execute_result"
    }
   ],
   "source": [
    "dfm.head()"
   ]
  },
  {
   "cell_type": "code",
   "execution_count": 13,
   "metadata": {},
   "outputs": [],
   "source": [
    "dfm.columns = ['neighbourhood', 'cause', 'evictions']"
   ]
  },
  {
   "cell_type": "code",
   "execution_count": 14,
   "metadata": {},
   "outputs": [],
   "source": [
    "dfg = dfm.groupby(['neighbourhood', 'cause'], as_index=False).evictions.sum()"
   ]
  },
  {
   "cell_type": "code",
   "execution_count": 15,
   "metadata": {},
   "outputs": [
    {
     "data": {
      "text/html": [
       "<div>\n",
       "<style scoped>\n",
       "    .dataframe tbody tr th:only-of-type {\n",
       "        vertical-align: middle;\n",
       "    }\n",
       "\n",
       "    .dataframe tbody tr th {\n",
       "        vertical-align: top;\n",
       "    }\n",
       "\n",
       "    .dataframe thead th {\n",
       "        text-align: right;\n",
       "    }\n",
       "</style>\n",
       "<table border=\"1\" class=\"dataframe\">\n",
       "  <thead>\n",
       "    <tr style=\"text-align: right;\">\n",
       "      <th></th>\n",
       "      <th>neighbourhood</th>\n",
       "      <th>cause</th>\n",
       "      <th>evictions</th>\n",
       "    </tr>\n",
       "  </thead>\n",
       "  <tbody>\n",
       "    <tr>\n",
       "      <th>0</th>\n",
       "      <td>Bayview Hunters Point</td>\n",
       "      <td>Access Denial</td>\n",
       "      <td>38.0</td>\n",
       "    </tr>\n",
       "    <tr>\n",
       "      <th>1</th>\n",
       "      <td>Bayview Hunters Point</td>\n",
       "      <td>Breach</td>\n",
       "      <td>239.0</td>\n",
       "    </tr>\n",
       "    <tr>\n",
       "      <th>2</th>\n",
       "      <td>Bayview Hunters Point</td>\n",
       "      <td>Capital Improvement</td>\n",
       "      <td>13.0</td>\n",
       "    </tr>\n",
       "    <tr>\n",
       "      <th>3</th>\n",
       "      <td>Bayview Hunters Point</td>\n",
       "      <td>Condo Conversion</td>\n",
       "      <td>0.0</td>\n",
       "    </tr>\n",
       "    <tr>\n",
       "      <th>4</th>\n",
       "      <td>Bayview Hunters Point</td>\n",
       "      <td>Demolition</td>\n",
       "      <td>34.0</td>\n",
       "    </tr>\n",
       "  </tbody>\n",
       "</table>\n",
       "</div>"
      ],
      "text/plain": [
       "           neighbourhood                cause  evictions\n",
       "0  Bayview Hunters Point        Access Denial       38.0\n",
       "1  Bayview Hunters Point               Breach      239.0\n",
       "2  Bayview Hunters Point  Capital Improvement       13.0\n",
       "3  Bayview Hunters Point     Condo Conversion        0.0\n",
       "4  Bayview Hunters Point           Demolition       34.0"
      ]
     },
     "execution_count": 15,
     "metadata": {},
     "output_type": "execute_result"
    }
   ],
   "source": [
    "dfg.head()"
   ]
  },
  {
   "cell_type": "markdown",
   "metadata": {},
   "source": [
    "**Keeping only top neighbourhoods**"
   ]
  },
  {
   "cell_type": "code",
   "execution_count": 16,
   "metadata": {},
   "outputs": [
    {
     "name": "stdout",
     "output_type": "stream",
     "text": [
      "Top 20 neighbourhoods represent 81.0% of total evictions.\n"
     ]
    }
   ],
   "source": [
    "dft = dfg.groupby('neighbourhood', as_index=False).evictions.sum().sort_values(by='evictions', ascending=False).reset_index(drop=True)\n",
    "print(f'Top 20 neighbourhoods represent {(round(sum(dft.head(20).evictions) / sum(dft.evictions), 2))*100}% of total evictions.')"
   ]
  },
  {
   "cell_type": "markdown",
   "metadata": {},
   "source": [
    "Let's only keep the top 20."
   ]
  },
  {
   "cell_type": "code",
   "execution_count": 17,
   "metadata": {},
   "outputs": [],
   "source": [
    "top_20 = list(dft.neighbourhood.head(20))"
   ]
  },
  {
   "cell_type": "code",
   "execution_count": 18,
   "metadata": {},
   "outputs": [],
   "source": [
    "df_top = dfg[dfg['neighbourhood'].isin(top_20)]"
   ]
  },
  {
   "cell_type": "code",
   "execution_count": 19,
   "metadata": {},
   "outputs": [
    {
     "data": {
      "text/html": [
       "<div>\n",
       "<style scoped>\n",
       "    .dataframe tbody tr th:only-of-type {\n",
       "        vertical-align: middle;\n",
       "    }\n",
       "\n",
       "    .dataframe tbody tr th {\n",
       "        vertical-align: top;\n",
       "    }\n",
       "\n",
       "    .dataframe thead th {\n",
       "        text-align: right;\n",
       "    }\n",
       "</style>\n",
       "<table border=\"1\" class=\"dataframe\">\n",
       "  <thead>\n",
       "    <tr style=\"text-align: right;\">\n",
       "      <th></th>\n",
       "      <th>neighbourhood</th>\n",
       "      <th>cause</th>\n",
       "      <th>evictions</th>\n",
       "    </tr>\n",
       "  </thead>\n",
       "  <tbody>\n",
       "    <tr>\n",
       "      <th>172</th>\n",
       "      <td>Hayes Valley</td>\n",
       "      <td>Breach</td>\n",
       "      <td>336.0</td>\n",
       "    </tr>\n",
       "    <tr>\n",
       "      <th>627</th>\n",
       "      <td>South of Market</td>\n",
       "      <td>Access Denial</td>\n",
       "      <td>8.0</td>\n",
       "    </tr>\n",
       "    <tr>\n",
       "      <th>260</th>\n",
       "      <td>Lakeshore</td>\n",
       "      <td>Nuisance</td>\n",
       "      <td>78.0</td>\n",
       "    </tr>\n",
       "    <tr>\n",
       "      <th>80</th>\n",
       "      <td>Excelsior</td>\n",
       "      <td>Demolition</td>\n",
       "      <td>77.0</td>\n",
       "    </tr>\n",
       "    <tr>\n",
       "      <th>489</th>\n",
       "      <td>Outer Richmond</td>\n",
       "      <td>Other Cause</td>\n",
       "      <td>52.0</td>\n",
       "    </tr>\n",
       "  </tbody>\n",
       "</table>\n",
       "</div>"
      ],
      "text/plain": [
       "       neighbourhood          cause  evictions\n",
       "172     Hayes Valley         Breach      336.0\n",
       "627  South of Market  Access Denial        8.0\n",
       "260        Lakeshore       Nuisance       78.0\n",
       "80         Excelsior     Demolition       77.0\n",
       "489   Outer Richmond    Other Cause       52.0"
      ]
     },
     "execution_count": 19,
     "metadata": {},
     "output_type": "execute_result"
    }
   ],
   "source": [
    "df_top.sample(5)"
   ]
  },
  {
   "cell_type": "markdown",
   "metadata": {},
   "source": [
    "**Pivoting melted data for heatmap**"
   ]
  },
  {
   "cell_type": "code",
   "execution_count": 20,
   "metadata": {},
   "outputs": [],
   "source": [
    "df_heatmap = pd.pivot_table(df_top, values='evictions', index=['neighbourhood'], columns='cause')"
   ]
  },
  {
   "cell_type": "code",
   "execution_count": 21,
   "metadata": {},
   "outputs": [
    {
     "data": {
      "text/html": [
       "<div>\n",
       "<style scoped>\n",
       "    .dataframe tbody tr th:only-of-type {\n",
       "        vertical-align: middle;\n",
       "    }\n",
       "\n",
       "    .dataframe tbody tr th {\n",
       "        vertical-align: top;\n",
       "    }\n",
       "\n",
       "    .dataframe thead th {\n",
       "        text-align: right;\n",
       "    }\n",
       "</style>\n",
       "<table border=\"1\" class=\"dataframe\">\n",
       "  <thead>\n",
       "    <tr style=\"text-align: right;\">\n",
       "      <th>cause</th>\n",
       "      <th>Access Denial</th>\n",
       "      <th>Breach</th>\n",
       "      <th>Capital Improvement</th>\n",
       "      <th>Condo Conversion</th>\n",
       "      <th>Demolition</th>\n",
       "      <th>Development</th>\n",
       "      <th>Ellis Act WithDrawal</th>\n",
       "      <th>Failure to Sign Renewal</th>\n",
       "      <th>Good Samaritan Ends</th>\n",
       "      <th>Illegal Use</th>\n",
       "      <th>Late Payments</th>\n",
       "      <th>Lead Remediation</th>\n",
       "      <th>Non Payment</th>\n",
       "      <th>Nuisance</th>\n",
       "      <th>Other Cause</th>\n",
       "      <th>Owner Move In</th>\n",
       "      <th>Roommate Same Unit</th>\n",
       "      <th>Substantial Rehab</th>\n",
       "      <th>Unapproved Subtenant</th>\n",
       "    </tr>\n",
       "    <tr>\n",
       "      <th>neighbourhood</th>\n",
       "      <th></th>\n",
       "      <th></th>\n",
       "      <th></th>\n",
       "      <th></th>\n",
       "      <th></th>\n",
       "      <th></th>\n",
       "      <th></th>\n",
       "      <th></th>\n",
       "      <th></th>\n",
       "      <th></th>\n",
       "      <th></th>\n",
       "      <th></th>\n",
       "      <th></th>\n",
       "      <th></th>\n",
       "      <th></th>\n",
       "      <th></th>\n",
       "      <th></th>\n",
       "      <th></th>\n",
       "      <th></th>\n",
       "    </tr>\n",
       "  </thead>\n",
       "  <tbody>\n",
       "    <tr>\n",
       "      <th>Bayview Hunters Point</th>\n",
       "      <td>38.0</td>\n",
       "      <td>239.0</td>\n",
       "      <td>13.0</td>\n",
       "      <td>0.0</td>\n",
       "      <td>34.0</td>\n",
       "      <td>0.0</td>\n",
       "      <td>26.0</td>\n",
       "      <td>12.0</td>\n",
       "      <td>0.0</td>\n",
       "      <td>29.0</td>\n",
       "      <td>61.0</td>\n",
       "      <td>0.0</td>\n",
       "      <td>140.0</td>\n",
       "      <td>164.0</td>\n",
       "      <td>96.0</td>\n",
       "      <td>235.0</td>\n",
       "      <td>40.0</td>\n",
       "      <td>0.0</td>\n",
       "      <td>12.0</td>\n",
       "    </tr>\n",
       "    <tr>\n",
       "      <th>Bernal Heights</th>\n",
       "      <td>10.0</td>\n",
       "      <td>150.0</td>\n",
       "      <td>34.0</td>\n",
       "      <td>6.0</td>\n",
       "      <td>51.0</td>\n",
       "      <td>1.0</td>\n",
       "      <td>109.0</td>\n",
       "      <td>1.0</td>\n",
       "      <td>3.0</td>\n",
       "      <td>24.0</td>\n",
       "      <td>50.0</td>\n",
       "      <td>0.0</td>\n",
       "      <td>62.0</td>\n",
       "      <td>113.0</td>\n",
       "      <td>37.0</td>\n",
       "      <td>376.0</td>\n",
       "      <td>63.0</td>\n",
       "      <td>6.0</td>\n",
       "      <td>11.0</td>\n",
       "    </tr>\n",
       "    <tr>\n",
       "      <th>Castro/Upper Market</th>\n",
       "      <td>9.0</td>\n",
       "      <td>316.0</td>\n",
       "      <td>56.0</td>\n",
       "      <td>19.0</td>\n",
       "      <td>42.0</td>\n",
       "      <td>0.0</td>\n",
       "      <td>310.0</td>\n",
       "      <td>3.0</td>\n",
       "      <td>0.0</td>\n",
       "      <td>39.0</td>\n",
       "      <td>79.0</td>\n",
       "      <td>1.0</td>\n",
       "      <td>76.0</td>\n",
       "      <td>199.0</td>\n",
       "      <td>36.0</td>\n",
       "      <td>385.0</td>\n",
       "      <td>90.0</td>\n",
       "      <td>6.0</td>\n",
       "      <td>32.0</td>\n",
       "    </tr>\n",
       "    <tr>\n",
       "      <th>Excelsior</th>\n",
       "      <td>18.0</td>\n",
       "      <td>217.0</td>\n",
       "      <td>14.0</td>\n",
       "      <td>0.0</td>\n",
       "      <td>77.0</td>\n",
       "      <td>0.0</td>\n",
       "      <td>53.0</td>\n",
       "      <td>4.0</td>\n",
       "      <td>0.0</td>\n",
       "      <td>28.0</td>\n",
       "      <td>66.0</td>\n",
       "      <td>0.0</td>\n",
       "      <td>92.0</td>\n",
       "      <td>114.0</td>\n",
       "      <td>74.0</td>\n",
       "      <td>365.0</td>\n",
       "      <td>67.0</td>\n",
       "      <td>0.0</td>\n",
       "      <td>7.0</td>\n",
       "    </tr>\n",
       "    <tr>\n",
       "      <th>Haight Ashbury</th>\n",
       "      <td>8.0</td>\n",
       "      <td>227.0</td>\n",
       "      <td>75.0</td>\n",
       "      <td>6.0</td>\n",
       "      <td>24.0</td>\n",
       "      <td>0.0</td>\n",
       "      <td>197.0</td>\n",
       "      <td>3.0</td>\n",
       "      <td>0.0</td>\n",
       "      <td>22.0</td>\n",
       "      <td>43.0</td>\n",
       "      <td>0.0</td>\n",
       "      <td>44.0</td>\n",
       "      <td>156.0</td>\n",
       "      <td>25.0</td>\n",
       "      <td>274.0</td>\n",
       "      <td>65.0</td>\n",
       "      <td>1.0</td>\n",
       "      <td>23.0</td>\n",
       "    </tr>\n",
       "  </tbody>\n",
       "</table>\n",
       "</div>"
      ],
      "text/plain": [
       "cause                  Access Denial  Breach  Capital Improvement  \\\n",
       "neighbourhood                                                       \n",
       "Bayview Hunters Point           38.0   239.0                 13.0   \n",
       "Bernal Heights                  10.0   150.0                 34.0   \n",
       "Castro/Upper Market              9.0   316.0                 56.0   \n",
       "Excelsior                       18.0   217.0                 14.0   \n",
       "Haight Ashbury                   8.0   227.0                 75.0   \n",
       "\n",
       "cause                  Condo Conversion  Demolition  Development  \\\n",
       "neighbourhood                                                      \n",
       "Bayview Hunters Point               0.0        34.0          0.0   \n",
       "Bernal Heights                      6.0        51.0          1.0   \n",
       "Castro/Upper Market                19.0        42.0          0.0   \n",
       "Excelsior                           0.0        77.0          0.0   \n",
       "Haight Ashbury                      6.0        24.0          0.0   \n",
       "\n",
       "cause                  Ellis Act WithDrawal  Failure to Sign Renewal  \\\n",
       "neighbourhood                                                          \n",
       "Bayview Hunters Point                  26.0                     12.0   \n",
       "Bernal Heights                        109.0                      1.0   \n",
       "Castro/Upper Market                   310.0                      3.0   \n",
       "Excelsior                              53.0                      4.0   \n",
       "Haight Ashbury                        197.0                      3.0   \n",
       "\n",
       "cause                  Good Samaritan Ends  Illegal Use  Late Payments  \\\n",
       "neighbourhood                                                            \n",
       "Bayview Hunters Point                  0.0         29.0           61.0   \n",
       "Bernal Heights                         3.0         24.0           50.0   \n",
       "Castro/Upper Market                    0.0         39.0           79.0   \n",
       "Excelsior                              0.0         28.0           66.0   \n",
       "Haight Ashbury                         0.0         22.0           43.0   \n",
       "\n",
       "cause                  Lead Remediation  Non Payment  Nuisance  Other Cause  \\\n",
       "neighbourhood                                                                 \n",
       "Bayview Hunters Point               0.0        140.0     164.0         96.0   \n",
       "Bernal Heights                      0.0         62.0     113.0         37.0   \n",
       "Castro/Upper Market                 1.0         76.0     199.0         36.0   \n",
       "Excelsior                           0.0         92.0     114.0         74.0   \n",
       "Haight Ashbury                      0.0         44.0     156.0         25.0   \n",
       "\n",
       "cause                  Owner Move In  Roommate Same Unit  Substantial Rehab  \\\n",
       "neighbourhood                                                                 \n",
       "Bayview Hunters Point          235.0                40.0                0.0   \n",
       "Bernal Heights                 376.0                63.0                6.0   \n",
       "Castro/Upper Market            385.0                90.0                6.0   \n",
       "Excelsior                      365.0                67.0                0.0   \n",
       "Haight Ashbury                 274.0                65.0                1.0   \n",
       "\n",
       "cause                  Unapproved Subtenant  \n",
       "neighbourhood                                \n",
       "Bayview Hunters Point                  12.0  \n",
       "Bernal Heights                         11.0  \n",
       "Castro/Upper Market                    32.0  \n",
       "Excelsior                               7.0  \n",
       "Haight Ashbury                         23.0  "
      ]
     },
     "execution_count": 21,
     "metadata": {},
     "output_type": "execute_result"
    }
   ],
   "source": [
    "df_heatmap.head()"
   ]
  },
  {
   "cell_type": "markdown",
   "metadata": {},
   "source": [
    "**Creating, exporting heatmap**"
   ]
  },
  {
   "cell_type": "code",
   "execution_count": 22,
   "metadata": {},
   "outputs": [
    {
     "data": {
      "image/png": "[encoded data removed]",
      "text/plain": [
       "<Figure size 720x576 with 2 Axes>"
      ]
     },
     "metadata": {},
     "output_type": "display_data"
    }
   ],
   "source": [
    "plt.style.use('ggplot')\n",
    "\n",
    "fig = plt.figure(figsize=(10, 8))\n",
    "\n",
    "ax = sns.heatmap(df_heatmap, cmap=\"gist_gray_r\", linewidths=.2, linecolor='white', ) \n",
    "\n",
    "ax.tick_params(direction='out', length=0, width=2, colors='gray', grid_color='darkgray')\n",
    "\n",
    "plt.text(-6, -2, \"30 YEARS OF EVICTIONS IN SAN FRANCISCO\", fontdict={'weight' : 'semibold', 'size' : 22} )\n",
    "plt.text(-6, -1, \"San Francisco neighbourhoods with the most evictions between 1998 and 2018 by reason.\", fontdict={'size' : 12} )\n",
    "\n",
    "plt.xlabel('Why?', fontdict={'weight' : 'semibold', 'size' : 12})\n",
    "plt.ylabel('Where?', fontdict={'weight' : 'semibold', 'size' : 12})\n",
    "\n",
    "plt.savefig('MM2019w39.png', orientation='landscape', optimize=True, bbox_inches='tight')\n",
    "plt.show()"
   ]
  }
 ],
 "metadata": {
  "kernelspec": {
   "display_name": "Python 3",
   "language": "python",
   "name": "python3"
  },
  "language_info": {
   "codemirror_mode": {
    "name": "ipython",
    "version": 3
   },
   "file_extension": ".py",
   "mimetype": "text/x-python",
   "name": "python",
   "nbconvert_exporter": "python",
   "pygments_lexer": "ipython3",
   "version": "3.7.3"
  }
 },
 "nbformat": 4,
 "nbformat_minor": 2
}
