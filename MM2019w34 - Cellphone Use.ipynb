{
 "cells": [
  {
   "cell_type": "markdown",
   "metadata": {},
   "source": [
    "# #MakeoverMonday 2019w34: Cellphone Use\n",
    "#### A quick notebook to pivot the data for use in Tableau"
   ]
  },
  {
   "cell_type": "markdown",
   "metadata": {},
   "source": [
    "Importing pandas"
   ]
  },
  {
   "cell_type": "code",
   "execution_count": 2,
   "metadata": {},
   "outputs": [],
   "source": [
    "import pandas as pd"
   ]
  },
  {
   "cell_type": "markdown",
   "metadata": {},
   "source": [
    "Importing data"
   ]
  },
  {
   "cell_type": "code",
   "execution_count": 9,
   "metadata": {},
   "outputs": [],
   "source": [
    "df_cell_use = pd.read_excel(\"Cellphone use.xlsx\", header=0)"
   ]
  },
  {
   "cell_type": "code",
   "execution_count": 10,
   "metadata": {},
   "outputs": [
    {
     "data": {
      "text/html": [
       "<div>\n",
       "<style scoped>\n",
       "    .dataframe tbody tr th:only-of-type {\n",
       "        vertical-align: middle;\n",
       "    }\n",
       "\n",
       "    .dataframe tbody tr th {\n",
       "        vertical-align: top;\n",
       "    }\n",
       "\n",
       "    .dataframe thead th {\n",
       "        text-align: right;\n",
       "    }\n",
       "</style>\n",
       "<table border=\"1\" class=\"dataframe\">\n",
       "  <thead>\n",
       "    <tr style=\"text-align: right;\">\n",
       "      <th></th>\n",
       "      <th>Question</th>\n",
       "      <th>Respondent</th>\n",
       "      <th>Response %</th>\n",
       "      <th>Frequency</th>\n",
       "    </tr>\n",
       "  </thead>\n",
       "  <tbody>\n",
       "    <tr>\n",
       "      <th>0</th>\n",
       "      <td>% of US teens/parents who say they spend too m...</td>\n",
       "      <td>Teens</td>\n",
       "      <td>0.54</td>\n",
       "      <td>na</td>\n",
       "    </tr>\n",
       "    <tr>\n",
       "      <th>1</th>\n",
       "      <td>% of US teens/parents who say they spend too m...</td>\n",
       "      <td>Parents</td>\n",
       "      <td>0.36</td>\n",
       "      <td>na</td>\n",
       "    </tr>\n",
       "    <tr>\n",
       "      <th>2</th>\n",
       "      <td>% of US teens/parents who say they check phone...</td>\n",
       "      <td>Teens</td>\n",
       "      <td>0.44</td>\n",
       "      <td>Often</td>\n",
       "    </tr>\n",
       "    <tr>\n",
       "      <th>3</th>\n",
       "      <td>% of US teens/parents who say they check phone...</td>\n",
       "      <td>Parents</td>\n",
       "      <td>0.26</td>\n",
       "      <td>Often</td>\n",
       "    </tr>\n",
       "    <tr>\n",
       "      <th>4</th>\n",
       "      <td>% of US teens/parents who say they check phone...</td>\n",
       "      <td>Teens</td>\n",
       "      <td>0.28</td>\n",
       "      <td>Sometimes</td>\n",
       "    </tr>\n",
       "    <tr>\n",
       "      <th>5</th>\n",
       "      <td>% of US teens/parents who say they check phone...</td>\n",
       "      <td>Parents</td>\n",
       "      <td>0.32</td>\n",
       "      <td>Sometimes</td>\n",
       "    </tr>\n",
       "    <tr>\n",
       "      <th>6</th>\n",
       "      <td>% of US teens/parents who say they feel their ...</td>\n",
       "      <td>Teens</td>\n",
       "      <td>0.14</td>\n",
       "      <td>Often</td>\n",
       "    </tr>\n",
       "    <tr>\n",
       "      <th>7</th>\n",
       "      <td>% of US teens/parents who say they feel their ...</td>\n",
       "      <td>Parents</td>\n",
       "      <td>0.30</td>\n",
       "      <td>Often</td>\n",
       "    </tr>\n",
       "    <tr>\n",
       "      <th>8</th>\n",
       "      <td>% of US teens/parents who say they feel their ...</td>\n",
       "      <td>Teens</td>\n",
       "      <td>0.37</td>\n",
       "      <td>Sometimes</td>\n",
       "    </tr>\n",
       "    <tr>\n",
       "      <th>9</th>\n",
       "      <td>% of US teens/parents who say they feel their ...</td>\n",
       "      <td>Parents</td>\n",
       "      <td>0.42</td>\n",
       "      <td>Sometimes</td>\n",
       "    </tr>\n",
       "    <tr>\n",
       "      <th>10</th>\n",
       "      <td>% of US teens/parents who say they lose focus ...</td>\n",
       "      <td>Teens</td>\n",
       "      <td>0.08</td>\n",
       "      <td>Often</td>\n",
       "    </tr>\n",
       "    <tr>\n",
       "      <th>11</th>\n",
       "      <td>% of US teens/parents who say they lose focus ...</td>\n",
       "      <td>Parents</td>\n",
       "      <td>0.15</td>\n",
       "      <td>Often</td>\n",
       "    </tr>\n",
       "    <tr>\n",
       "      <th>12</th>\n",
       "      <td>% of US teens/parents who say they lose focus ...</td>\n",
       "      <td>Teens</td>\n",
       "      <td>0.23</td>\n",
       "      <td>Sometimes</td>\n",
       "    </tr>\n",
       "    <tr>\n",
       "      <th>13</th>\n",
       "      <td>% of US teens/parents who say they lose focus ...</td>\n",
       "      <td>Parents</td>\n",
       "      <td>0.24</td>\n",
       "      <td>Sometimes</td>\n",
       "    </tr>\n",
       "  </tbody>\n",
       "</table>\n",
       "</div>"
      ],
      "text/plain": [
       "                                             Question Respondent  Response %  \\\n",
       "0   % of US teens/parents who say they spend too m...      Teens        0.54   \n",
       "1   % of US teens/parents who say they spend too m...    Parents        0.36   \n",
       "2   % of US teens/parents who say they check phone...      Teens        0.44   \n",
       "3   % of US teens/parents who say they check phone...    Parents        0.26   \n",
       "4   % of US teens/parents who say they check phone...      Teens        0.28   \n",
       "5   % of US teens/parents who say they check phone...    Parents        0.32   \n",
       "6   % of US teens/parents who say they feel their ...      Teens        0.14   \n",
       "7   % of US teens/parents who say they feel their ...    Parents        0.30   \n",
       "8   % of US teens/parents who say they feel their ...      Teens        0.37   \n",
       "9   % of US teens/parents who say they feel their ...    Parents        0.42   \n",
       "10  % of US teens/parents who say they lose focus ...      Teens        0.08   \n",
       "11  % of US teens/parents who say they lose focus ...    Parents        0.15   \n",
       "12  % of US teens/parents who say they lose focus ...      Teens        0.23   \n",
       "13  % of US teens/parents who say they lose focus ...    Parents        0.24   \n",
       "\n",
       "    Frequency  \n",
       "0          na  \n",
       "1          na  \n",
       "2       Often  \n",
       "3       Often  \n",
       "4   Sometimes  \n",
       "5   Sometimes  \n",
       "6       Often  \n",
       "7       Often  \n",
       "8   Sometimes  \n",
       "9   Sometimes  \n",
       "10      Often  \n",
       "11      Often  \n",
       "12  Sometimes  \n",
       "13  Sometimes  "
      ]
     },
     "metadata": {},
     "output_type": "display_data"
    }
   ],
   "source": [
    "display(df_cell_use)"
   ]
  },
  {
   "cell_type": "markdown",
   "metadata": {},
   "source": [
    "I want to combine the \"often\" and \"sometimes\" responses, so I'll group the dataframe."
   ]
  },
  {
   "cell_type": "code",
   "execution_count": 11,
   "metadata": {},
   "outputs": [],
   "source": [
    "dfg = df_cell_use.groupby(['Question', 'Respondent'], as_index=False).agg({'Response %':'sum'})"
   ]
  },
  {
   "cell_type": "code",
   "execution_count": 12,
   "metadata": {},
   "outputs": [
    {
     "data": {
      "text/html": [
       "<div>\n",
       "<style scoped>\n",
       "    .dataframe tbody tr th:only-of-type {\n",
       "        vertical-align: middle;\n",
       "    }\n",
       "\n",
       "    .dataframe tbody tr th {\n",
       "        vertical-align: top;\n",
       "    }\n",
       "\n",
       "    .dataframe thead th {\n",
       "        text-align: right;\n",
       "    }\n",
       "</style>\n",
       "<table border=\"1\" class=\"dataframe\">\n",
       "  <thead>\n",
       "    <tr style=\"text-align: right;\">\n",
       "      <th></th>\n",
       "      <th>Question</th>\n",
       "      <th>Respondent</th>\n",
       "      <th>Response %</th>\n",
       "    </tr>\n",
       "  </thead>\n",
       "  <tbody>\n",
       "    <tr>\n",
       "      <th>0</th>\n",
       "      <td>% of US teens/parents who say they check phone...</td>\n",
       "      <td>Parents</td>\n",
       "      <td>0.58</td>\n",
       "    </tr>\n",
       "    <tr>\n",
       "      <th>1</th>\n",
       "      <td>% of US teens/parents who say they check phone...</td>\n",
       "      <td>Teens</td>\n",
       "      <td>0.72</td>\n",
       "    </tr>\n",
       "    <tr>\n",
       "      <th>2</th>\n",
       "      <td>% of US teens/parents who say they feel their ...</td>\n",
       "      <td>Parents</td>\n",
       "      <td>0.72</td>\n",
       "    </tr>\n",
       "    <tr>\n",
       "      <th>3</th>\n",
       "      <td>% of US teens/parents who say they feel their ...</td>\n",
       "      <td>Teens</td>\n",
       "      <td>0.51</td>\n",
       "    </tr>\n",
       "    <tr>\n",
       "      <th>4</th>\n",
       "      <td>% of US teens/parents who say they lose focus ...</td>\n",
       "      <td>Parents</td>\n",
       "      <td>0.39</td>\n",
       "    </tr>\n",
       "    <tr>\n",
       "      <th>5</th>\n",
       "      <td>% of US teens/parents who say they lose focus ...</td>\n",
       "      <td>Teens</td>\n",
       "      <td>0.31</td>\n",
       "    </tr>\n",
       "    <tr>\n",
       "      <th>6</th>\n",
       "      <td>% of US teens/parents who say they spend too m...</td>\n",
       "      <td>Parents</td>\n",
       "      <td>0.36</td>\n",
       "    </tr>\n",
       "    <tr>\n",
       "      <th>7</th>\n",
       "      <td>% of US teens/parents who say they spend too m...</td>\n",
       "      <td>Teens</td>\n",
       "      <td>0.54</td>\n",
       "    </tr>\n",
       "  </tbody>\n",
       "</table>\n",
       "</div>"
      ],
      "text/plain": [
       "                                            Question Respondent  Response %\n",
       "0  % of US teens/parents who say they check phone...    Parents        0.58\n",
       "1  % of US teens/parents who say they check phone...      Teens        0.72\n",
       "2  % of US teens/parents who say they feel their ...    Parents        0.72\n",
       "3  % of US teens/parents who say they feel their ...      Teens        0.51\n",
       "4  % of US teens/parents who say they lose focus ...    Parents        0.39\n",
       "5  % of US teens/parents who say they lose focus ...      Teens        0.31\n",
       "6  % of US teens/parents who say they spend too m...    Parents        0.36\n",
       "7  % of US teens/parents who say they spend too m...      Teens        0.54"
      ]
     },
     "execution_count": 12,
     "metadata": {},
     "output_type": "execute_result"
    }
   ],
   "source": [
    "dfg"
   ]
  },
  {
   "cell_type": "markdown",
   "metadata": {},
   "source": [
    "I'll now pivot the dataframe to have `teens`and `parents`columns"
   ]
  },
  {
   "cell_type": "code",
   "execution_count": 23,
   "metadata": {},
   "outputs": [],
   "source": [
    "dfg_pivoted = dfg.pivot(index='Question', columns='Respondent', values='Response %')"
   ]
  },
  {
   "cell_type": "code",
   "execution_count": 24,
   "metadata": {},
   "outputs": [
    {
     "data": {
      "text/html": [
       "<div>\n",
       "<style scoped>\n",
       "    .dataframe tbody tr th:only-of-type {\n",
       "        vertical-align: middle;\n",
       "    }\n",
       "\n",
       "    .dataframe tbody tr th {\n",
       "        vertical-align: top;\n",
       "    }\n",
       "\n",
       "    .dataframe thead th {\n",
       "        text-align: right;\n",
       "    }\n",
       "</style>\n",
       "<table border=\"1\" class=\"dataframe\">\n",
       "  <thead>\n",
       "    <tr style=\"text-align: right;\">\n",
       "      <th>Respondent</th>\n",
       "      <th>Question</th>\n",
       "      <th>Parents</th>\n",
       "      <th>Teens</th>\n",
       "    </tr>\n",
       "  </thead>\n",
       "  <tbody>\n",
       "    <tr>\n",
       "      <th>0</th>\n",
       "      <td>% of US teens/parents who say they check phone...</td>\n",
       "      <td>0.58</td>\n",
       "      <td>0.72</td>\n",
       "    </tr>\n",
       "    <tr>\n",
       "      <th>1</th>\n",
       "      <td>% of US teens/parents who say they feel their ...</td>\n",
       "      <td>0.72</td>\n",
       "      <td>0.51</td>\n",
       "    </tr>\n",
       "    <tr>\n",
       "      <th>2</th>\n",
       "      <td>% of US teens/parents who say they lose focus ...</td>\n",
       "      <td>0.39</td>\n",
       "      <td>0.31</td>\n",
       "    </tr>\n",
       "    <tr>\n",
       "      <th>3</th>\n",
       "      <td>% of US teens/parents who say they spend too m...</td>\n",
       "      <td>0.36</td>\n",
       "      <td>0.54</td>\n",
       "    </tr>\n",
       "  </tbody>\n",
       "</table>\n",
       "</div>"
      ],
      "text/plain": [
       "Respondent                                           Question  Parents  Teens\n",
       "0           % of US teens/parents who say they check phone...     0.58   0.72\n",
       "1           % of US teens/parents who say they feel their ...     0.72   0.51\n",
       "2           % of US teens/parents who say they lose focus ...     0.39   0.31\n",
       "3           % of US teens/parents who say they spend too m...     0.36   0.54"
      ]
     },
     "execution_count": 24,
     "metadata": {},
     "output_type": "execute_result"
    }
   ],
   "source": [
    "dfg_pivoted.reset_index(inplace=True)\n",
    "dfg_pivoted"
   ]
  },
  {
   "cell_type": "markdown",
   "metadata": {},
   "source": [
    "All good and ready to export for Tableau!"
   ]
  },
  {
   "cell_type": "code",
   "execution_count": 82,
   "metadata": {},
   "outputs": [],
   "source": [
    "dfg_pivoted_pivoted.to_excel(\"Cellphone use_pivoted.xlsx\")"
   ]
  }
 ],
 "metadata": {
  "kernelspec": {
   "display_name": "Python 3",
   "language": "python",
   "name": "python3"
  },
  "language_info": {
   "codemirror_mode": {
    "name": "ipython",
    "version": 3
   },
   "file_extension": ".py",
   "mimetype": "text/x-python",
   "name": "python",
   "nbconvert_exporter": "python",
   "pygments_lexer": "ipython3",
   "version": "3.7.3"
  }
 },
 "nbformat": 4,
 "nbformat_minor": 2
}
